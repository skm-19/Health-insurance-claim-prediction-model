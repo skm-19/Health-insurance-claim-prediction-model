{
  "nbformat": 4,
  "nbformat_minor": 0,
  "metadata": {
    "colab": {
      "name": "Claim Prediction.ipynb",
      "provenance": [],
      "collapsed_sections": []
    },
    "kernelspec": {
      "name": "python3",
      "display_name": "Python 3"
    },
    "language_info": {
      "name": "python"
    }
  },
  "cells": [
    {
      "cell_type": "markdown",
      "metadata": {
        "id": "x2OSqH0_ah9F"
      },
      "source": [
        "# PROBLEM STATEMENT\n",
        "<b> DOMAIN: Insurance Claim Prediction </b>\n",
        "\n",
        "\n",
        "<b> OBJECTIVE : To train a Linear Regression Model for accurate Claim Prediction \n"
      ]
    },
    {
      "cell_type": "markdown",
      "metadata": {
        "id": "s2paWBq3b2qF"
      },
      "source": [
        "**CONTEXT** A key challenge for the insurance industry is to charge each customer an appropriate\n",
        "premium for the risk they represent. The ability to predict a correct claim amount has a\n",
        "significant impact on insurer's management decisions and financial statements.\n",
        "Predicting the cost of claims in an insurance company is a real-life problem that needs\n",
        "to be solved in a more accurate and automated way. Several factors determine the\n",
        "cost of claims based on health factors like BMI, age, smoker, health conditions and\n",
        "others. Insurance companies apply numerous techniques for analyzing and predicting\n",
        "health insurance costs. \n",
        "\n",
        "**LEARNING OUTCOME**\n",
        "\n",
        "Linear Regression ,\n",
        "Exploratory Data Analysis ,\n",
        "Descriptive Statistics ,\n",
        "Log Transformations ,\n",
        "Dealing with categorical data "
      ]
    },
    {
      "cell_type": "markdown",
      "metadata": {
        "id": "adrhTj04dAb8"
      },
      "source": [
        "* IMPORTING NECCESARY LIBRARIES "
      ]
    },
    {
      "cell_type": "code",
      "metadata": {
        "id": "Y2zgY97Cdkiy"
      },
      "source": [
        "# Load the necessary Libraries\n",
        "import pandas as pd\n",
        "import numpy as np\n",
        "import matplotlib.pyplot as plt\n",
        "import seaborn as sns \n",
        "%matplotlib inline \n",
        "import datetime \n",
        "from pandas_profiling import ProfileReport\n",
        "import io  "
      ],
      "execution_count": null,
      "outputs": []
    },
    {
      "cell_type": "code",
      "metadata": {
        "colab": {
          "base_uri": "https://localhost:8080/"
        },
        "id": "WSNtMYvLduW8",
        "outputId": "b3e81117-2169-4d4a-9ac0-49994cd2900c"
      },
      "source": [
        "# To determine the versions of the packages\n",
        "print(np.__version__)\n",
        "print(pd.__version__)\n",
        "print(sns.__version__)  "
      ],
      "execution_count": null,
      "outputs": [
        {
          "output_type": "stream",
          "text": [
            "1.19.5\n",
            "1.1.5\n",
            "0.11.1\n"
          ],
          "name": "stdout"
        }
      ]
    },
    {
      "cell_type": "markdown",
      "metadata": {
        "id": "yDcbJpAPgy4y"
      },
      "source": [
        "# DATA OVERVIEW "
      ]
    },
    {
      "cell_type": "code",
      "metadata": {
        "colab": {
          "resources": {
            "http://localhost:8080/nbextensions/google.colab/files.js": {
              "data": "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",
              "ok": true,
              "headers": [
                [
                  "content-type",
                  "application/javascript"
                ]
              ],
              "status": 200,
              "status_text": ""
            }
          },
          "base_uri": "https://localhost:8080/",
          "height": 72
        },
        "id": "jBMGfxtHfdIz",
        "outputId": "6281177a-8e7d-4f7b-f3c7-dbea2fd119d8"
      },
      "source": [
        "#To upload the CSV file\n",
        "from google.colab import files \n",
        "\n",
        "\n",
        "uploaded = files.upload() "
      ],
      "execution_count": null,
      "outputs": [
        {
          "output_type": "display_data",
          "data": {
            "text/html": [
              "\n",
              "     <input type=\"file\" id=\"files-57494251-3bf6-4164-b669-a6750e8a3e65\" name=\"files[]\" multiple disabled\n",
              "        style=\"border:none\" />\n",
              "     <output id=\"result-57494251-3bf6-4164-b669-a6750e8a3e65\">\n",
              "      Upload widget is only available when the cell has been executed in the\n",
              "      current browser session. Please rerun this cell to enable.\n",
              "      </output>\n",
              "      <script src=\"/nbextensions/google.colab/files.js\"></script> "
            ],
            "text/plain": [
              "<IPython.core.display.HTML object>"
            ]
          },
          "metadata": {
            "tags": []
          }
        },
        {
          "output_type": "stream",
          "text": [
            "Saving healthinsurance.csv to healthinsurance (10).csv\n"
          ],
          "name": "stdout"
        }
      ]
    },
    {
      "cell_type": "code",
      "metadata": {
        "id": "ShFVl3r4fuVa"
      },
      "source": [
        "df = pd.read_csv(io.BytesIO(uploaded['healthinsurance.csv'])) "
      ],
      "execution_count": null,
      "outputs": []
    },
    {
      "cell_type": "code",
      "metadata": {
        "colab": {
          "base_uri": "https://localhost:8080/"
        },
        "id": "aliMJAirgR7t",
        "outputId": "7039cbff-8f52-4b03-faaa-283555e4da98"
      },
      "source": [
        "# Check number of rows and columns\n",
        "df.shape  "
      ],
      "execution_count": null,
      "outputs": [
        {
          "output_type": "execute_result",
          "data": {
            "text/plain": [
              "(1338, 10)"
            ]
          },
          "metadata": {
            "tags": []
          },
          "execution_count": 5
        }
      ]
    },
    {
      "cell_type": "code",
      "metadata": {
        "colab": {
          "base_uri": "https://localhost:8080/"
        },
        "id": "8fERAXAGga2e",
        "outputId": "5387c9c8-9ad1-48c8-d3bc-e9052db4c52c"
      },
      "source": [
        "print('The no. of rows is' ,df.shape[0], 'The no. of columns is', df.shape[1])  "
      ],
      "execution_count": null,
      "outputs": [
        {
          "output_type": "stream",
          "text": [
            "The no. of rows is 1338 The no. of columns is 10\n"
          ],
          "name": "stdout"
        }
      ]
    },
    {
      "cell_type": "code",
      "metadata": {
        "colab": {
          "base_uri": "https://localhost:8080/"
        },
        "id": "mh_C7a2phScS",
        "outputId": "d2f68fd4-67d9-485c-861f-3c14fb77a9b1"
      },
      "source": [
        "df.columns "
      ],
      "execution_count": null,
      "outputs": [
        {
          "output_type": "execute_result",
          "data": {
            "text/plain": [
              "Index(['age', 'sex', 'bmi', 'children', 'smoker', 'region', 'bloodpressure',\n",
              "       'diabetes', 'regular_ex', 'claim'],\n",
              "      dtype='object')"
            ]
          },
          "metadata": {
            "tags": []
          },
          "execution_count": 7
        }
      ]
    },
    {
      "cell_type": "code",
      "metadata": {
        "colab": {
          "base_uri": "https://localhost:8080/"
        },
        "id": "Ik8wRr3khdwy",
        "outputId": "e926240b-c853-4a17-d0f4-a9598c708d22"
      },
      "source": [
        "df.info() "
      ],
      "execution_count": null,
      "outputs": [
        {
          "output_type": "stream",
          "text": [
            "<class 'pandas.core.frame.DataFrame'>\n",
            "RangeIndex: 1338 entries, 0 to 1337\n",
            "Data columns (total 10 columns):\n",
            " #   Column         Non-Null Count  Dtype  \n",
            "---  ------         --------------  -----  \n",
            " 0   age            1338 non-null   int64  \n",
            " 1   sex            1338 non-null   object \n",
            " 2   bmi            1338 non-null   float64\n",
            " 3   children       1338 non-null   int64  \n",
            " 4   smoker         1338 non-null   int64  \n",
            " 5   region         1338 non-null   object \n",
            " 6   bloodpressure  1338 non-null   int64  \n",
            " 7   diabetes       1338 non-null   int64  \n",
            " 8   regular_ex     1338 non-null   int64  \n",
            " 9   claim          1338 non-null   float64\n",
            "dtypes: float64(2), int64(6), object(2)\n",
            "memory usage: 104.7+ KB\n"
          ],
          "name": "stdout"
        }
      ]
    },
    {
      "cell_type": "code",
      "metadata": {
        "colab": {
          "base_uri": "https://localhost:8080/"
        },
        "id": "PvkMMF6Ohitg",
        "outputId": "d4ac5bdf-322b-43d4-d558-c453ccd274c4"
      },
      "source": [
        "df.dtypes "
      ],
      "execution_count": null,
      "outputs": [
        {
          "output_type": "execute_result",
          "data": {
            "text/plain": [
              "age                int64\n",
              "sex               object\n",
              "bmi              float64\n",
              "children           int64\n",
              "smoker             int64\n",
              "region            object\n",
              "bloodpressure      int64\n",
              "diabetes           int64\n",
              "regular_ex         int64\n",
              "claim            float64\n",
              "dtype: object"
            ]
          },
          "metadata": {
            "tags": []
          },
          "execution_count": 9
        }
      ]
    },
    {
      "cell_type": "code",
      "metadata": {
        "colab": {
          "base_uri": "https://localhost:8080/",
          "height": 197
        },
        "id": "Uw7DOhWxl-GI",
        "outputId": "72eff5bf-7d03-49b3-b11b-4c48a96747a4"
      },
      "source": [
        "df.head(5) "
      ],
      "execution_count": null,
      "outputs": [
        {
          "output_type": "execute_result",
          "data": {
            "text/html": [
              "<div>\n",
              "<style scoped>\n",
              "    .dataframe tbody tr th:only-of-type {\n",
              "        vertical-align: middle;\n",
              "    }\n",
              "\n",
              "    .dataframe tbody tr th {\n",
              "        vertical-align: top;\n",
              "    }\n",
              "\n",
              "    .dataframe thead th {\n",
              "        text-align: right;\n",
              "    }\n",
              "</style>\n",
              "<table border=\"1\" class=\"dataframe\">\n",
              "  <thead>\n",
              "    <tr style=\"text-align: right;\">\n",
              "      <th></th>\n",
              "      <th>age</th>\n",
              "      <th>sex</th>\n",
              "      <th>bmi</th>\n",
              "      <th>children</th>\n",
              "      <th>smoker</th>\n",
              "      <th>region</th>\n",
              "      <th>bloodpressure</th>\n",
              "      <th>diabetes</th>\n",
              "      <th>regular_ex</th>\n",
              "      <th>claim</th>\n",
              "    </tr>\n",
              "  </thead>\n",
              "  <tbody>\n",
              "    <tr>\n",
              "      <th>0</th>\n",
              "      <td>54</td>\n",
              "      <td>female</td>\n",
              "      <td>47.4</td>\n",
              "      <td>0</td>\n",
              "      <td>0</td>\n",
              "      <td>southeast</td>\n",
              "      <td>90</td>\n",
              "      <td>1</td>\n",
              "      <td>0</td>\n",
              "      <td>63770.43</td>\n",
              "    </tr>\n",
              "    <tr>\n",
              "      <th>1</th>\n",
              "      <td>45</td>\n",
              "      <td>male</td>\n",
              "      <td>57.0</td>\n",
              "      <td>0</td>\n",
              "      <td>0</td>\n",
              "      <td>southeast</td>\n",
              "      <td>66</td>\n",
              "      <td>1</td>\n",
              "      <td>0</td>\n",
              "      <td>62592.87</td>\n",
              "    </tr>\n",
              "    <tr>\n",
              "      <th>2</th>\n",
              "      <td>52</td>\n",
              "      <td>male</td>\n",
              "      <td>34.5</td>\n",
              "      <td>3</td>\n",
              "      <td>0</td>\n",
              "      <td>northwest</td>\n",
              "      <td>70</td>\n",
              "      <td>0</td>\n",
              "      <td>0</td>\n",
              "      <td>60021.40</td>\n",
              "    </tr>\n",
              "    <tr>\n",
              "      <th>3</th>\n",
              "      <td>31</td>\n",
              "      <td>female</td>\n",
              "      <td>38.1</td>\n",
              "      <td>1</td>\n",
              "      <td>0</td>\n",
              "      <td>northeast</td>\n",
              "      <td>80</td>\n",
              "      <td>1</td>\n",
              "      <td>0</td>\n",
              "      <td>58571.07</td>\n",
              "    </tr>\n",
              "    <tr>\n",
              "      <th>4</th>\n",
              "      <td>33</td>\n",
              "      <td>female</td>\n",
              "      <td>59.0</td>\n",
              "      <td>0</td>\n",
              "      <td>0</td>\n",
              "      <td>northwest</td>\n",
              "      <td>50</td>\n",
              "      <td>1</td>\n",
              "      <td>0</td>\n",
              "      <td>55135.40</td>\n",
              "    </tr>\n",
              "  </tbody>\n",
              "</table>\n",
              "</div>"
            ],
            "text/plain": [
              "   age     sex   bmi  children  ...  bloodpressure diabetes  regular_ex     claim\n",
              "0   54  female  47.4         0  ...             90        1           0  63770.43\n",
              "1   45    male  57.0         0  ...             66        1           0  62592.87\n",
              "2   52    male  34.5         3  ...             70        0           0  60021.40\n",
              "3   31  female  38.1         1  ...             80        1           0  58571.07\n",
              "4   33  female  59.0         0  ...             50        1           0  55135.40\n",
              "\n",
              "[5 rows x 10 columns]"
            ]
          },
          "metadata": {
            "tags": []
          },
          "execution_count": 10
        }
      ]
    },
    {
      "cell_type": "code",
      "metadata": {
        "colab": {
          "base_uri": "https://localhost:8080/",
          "height": 286
        },
        "id": "vNz1vD1vhwhj",
        "outputId": "e5ad64b3-a7a9-4388-8e89-1fcd7779388f"
      },
      "source": [
        "df.describe().T  "
      ],
      "execution_count": null,
      "outputs": [
        {
          "output_type": "execute_result",
          "data": {
            "text/html": [
              "<div>\n",
              "<style scoped>\n",
              "    .dataframe tbody tr th:only-of-type {\n",
              "        vertical-align: middle;\n",
              "    }\n",
              "\n",
              "    .dataframe tbody tr th {\n",
              "        vertical-align: top;\n",
              "    }\n",
              "\n",
              "    .dataframe thead th {\n",
              "        text-align: right;\n",
              "    }\n",
              "</style>\n",
              "<table border=\"1\" class=\"dataframe\">\n",
              "  <thead>\n",
              "    <tr style=\"text-align: right;\">\n",
              "      <th></th>\n",
              "      <th>count</th>\n",
              "      <th>mean</th>\n",
              "      <th>std</th>\n",
              "      <th>min</th>\n",
              "      <th>25%</th>\n",
              "      <th>50%</th>\n",
              "      <th>75%</th>\n",
              "      <th>max</th>\n",
              "    </tr>\n",
              "  </thead>\n",
              "  <tbody>\n",
              "    <tr>\n",
              "      <th>age</th>\n",
              "      <td>1338.0</td>\n",
              "      <td>39.207025</td>\n",
              "      <td>14.049960</td>\n",
              "      <td>18.00</td>\n",
              "      <td>27.0000</td>\n",
              "      <td>39.00</td>\n",
              "      <td>51.000</td>\n",
              "      <td>64.00</td>\n",
              "    </tr>\n",
              "    <tr>\n",
              "      <th>bmi</th>\n",
              "      <td>1338.0</td>\n",
              "      <td>30.808281</td>\n",
              "      <td>6.282207</td>\n",
              "      <td>16.00</td>\n",
              "      <td>26.3000</td>\n",
              "      <td>30.50</td>\n",
              "      <td>34.800</td>\n",
              "      <td>62.00</td>\n",
              "    </tr>\n",
              "    <tr>\n",
              "      <th>children</th>\n",
              "      <td>1338.0</td>\n",
              "      <td>1.094918</td>\n",
              "      <td>1.205493</td>\n",
              "      <td>0.00</td>\n",
              "      <td>0.0000</td>\n",
              "      <td>1.00</td>\n",
              "      <td>2.000</td>\n",
              "      <td>5.00</td>\n",
              "    </tr>\n",
              "    <tr>\n",
              "      <th>smoker</th>\n",
              "      <td>1338.0</td>\n",
              "      <td>0.144245</td>\n",
              "      <td>0.351469</td>\n",
              "      <td>0.00</td>\n",
              "      <td>0.0000</td>\n",
              "      <td>0.00</td>\n",
              "      <td>0.000</td>\n",
              "      <td>1.00</td>\n",
              "    </tr>\n",
              "    <tr>\n",
              "      <th>bloodpressure</th>\n",
              "      <td>1338.0</td>\n",
              "      <td>68.977578</td>\n",
              "      <td>19.327770</td>\n",
              "      <td>0.00</td>\n",
              "      <td>64.0000</td>\n",
              "      <td>72.00</td>\n",
              "      <td>80.000</td>\n",
              "      <td>122.00</td>\n",
              "    </tr>\n",
              "    <tr>\n",
              "      <th>diabetes</th>\n",
              "      <td>1338.0</td>\n",
              "      <td>0.687593</td>\n",
              "      <td>0.463648</td>\n",
              "      <td>0.00</td>\n",
              "      <td>0.0000</td>\n",
              "      <td>1.00</td>\n",
              "      <td>1.000</td>\n",
              "      <td>1.00</td>\n",
              "    </tr>\n",
              "    <tr>\n",
              "      <th>regular_ex</th>\n",
              "      <td>1338.0</td>\n",
              "      <td>0.319133</td>\n",
              "      <td>0.466315</td>\n",
              "      <td>0.00</td>\n",
              "      <td>0.0000</td>\n",
              "      <td>0.00</td>\n",
              "      <td>1.000</td>\n",
              "      <td>1.00</td>\n",
              "    </tr>\n",
              "    <tr>\n",
              "      <th>claim</th>\n",
              "      <td>1338.0</td>\n",
              "      <td>13270.422414</td>\n",
              "      <td>12110.011240</td>\n",
              "      <td>1121.87</td>\n",
              "      <td>4740.2875</td>\n",
              "      <td>9382.03</td>\n",
              "      <td>16639.915</td>\n",
              "      <td>63770.43</td>\n",
              "    </tr>\n",
              "  </tbody>\n",
              "</table>\n",
              "</div>"
            ],
            "text/plain": [
              "                count          mean           std  ...      50%        75%       max\n",
              "age            1338.0     39.207025     14.049960  ...    39.00     51.000     64.00\n",
              "bmi            1338.0     30.808281      6.282207  ...    30.50     34.800     62.00\n",
              "children       1338.0      1.094918      1.205493  ...     1.00      2.000      5.00\n",
              "smoker         1338.0      0.144245      0.351469  ...     0.00      0.000      1.00\n",
              "bloodpressure  1338.0     68.977578     19.327770  ...    72.00     80.000    122.00\n",
              "diabetes       1338.0      0.687593      0.463648  ...     1.00      1.000      1.00\n",
              "regular_ex     1338.0      0.319133      0.466315  ...     0.00      1.000      1.00\n",
              "claim          1338.0  13270.422414  12110.011240  ...  9382.03  16639.915  63770.43\n",
              "\n",
              "[8 rows x 8 columns]"
            ]
          },
          "metadata": {
            "tags": []
          },
          "execution_count": 11
        }
      ]
    },
    {
      "cell_type": "code",
      "metadata": {
        "colab": {
          "base_uri": "https://localhost:8080/"
        },
        "id": "8EZyEOw2iEWY",
        "outputId": "3000e5c1-041c-4378-fde5-a6df040a09fd"
      },
      "source": [
        "df.isnull().sum() "
      ],
      "execution_count": null,
      "outputs": [
        {
          "output_type": "execute_result",
          "data": {
            "text/plain": [
              "age              0\n",
              "sex              0\n",
              "bmi              0\n",
              "children         0\n",
              "smoker           0\n",
              "region           0\n",
              "bloodpressure    0\n",
              "diabetes         0\n",
              "regular_ex       0\n",
              "claim            0\n",
              "dtype: int64"
            ]
          },
          "metadata": {
            "tags": []
          },
          "execution_count": 12
        }
      ]
    },
    {
      "cell_type": "code",
      "metadata": {
        "colab": {
          "base_uri": "https://localhost:8080/",
          "height": 286
        },
        "id": "btcI49PziVFC",
        "outputId": "52f836c5-38f3-42a9-8998-c80d9bac29ca"
      },
      "source": [
        "df.corr() "
      ],
      "execution_count": null,
      "outputs": [
        {
          "output_type": "execute_result",
          "data": {
            "text/html": [
              "<div>\n",
              "<style scoped>\n",
              "    .dataframe tbody tr th:only-of-type {\n",
              "        vertical-align: middle;\n",
              "    }\n",
              "\n",
              "    .dataframe tbody tr th {\n",
              "        vertical-align: top;\n",
              "    }\n",
              "\n",
              "    .dataframe thead th {\n",
              "        text-align: right;\n",
              "    }\n",
              "</style>\n",
              "<table border=\"1\" class=\"dataframe\">\n",
              "  <thead>\n",
              "    <tr style=\"text-align: right;\">\n",
              "      <th></th>\n",
              "      <th>age</th>\n",
              "      <th>bmi</th>\n",
              "      <th>children</th>\n",
              "      <th>smoker</th>\n",
              "      <th>bloodpressure</th>\n",
              "      <th>diabetes</th>\n",
              "      <th>regular_ex</th>\n",
              "      <th>claim</th>\n",
              "    </tr>\n",
              "  </thead>\n",
              "  <tbody>\n",
              "    <tr>\n",
              "      <th>age</th>\n",
              "      <td>1.000000</td>\n",
              "      <td>0.104088</td>\n",
              "      <td>0.042469</td>\n",
              "      <td>-0.083752</td>\n",
              "      <td>-0.018778</td>\n",
              "      <td>0.064129</td>\n",
              "      <td>0.008973</td>\n",
              "      <td>0.299008</td>\n",
              "    </tr>\n",
              "    <tr>\n",
              "      <th>bmi</th>\n",
              "      <td>0.104088</td>\n",
              "      <td>1.000000</td>\n",
              "      <td>0.022702</td>\n",
              "      <td>-0.016571</td>\n",
              "      <td>0.019526</td>\n",
              "      <td>0.083368</td>\n",
              "      <td>-0.066675</td>\n",
              "      <td>0.229282</td>\n",
              "    </tr>\n",
              "    <tr>\n",
              "      <th>children</th>\n",
              "      <td>0.042469</td>\n",
              "      <td>0.022702</td>\n",
              "      <td>1.000000</td>\n",
              "      <td>-0.018216</td>\n",
              "      <td>0.016912</td>\n",
              "      <td>0.067813</td>\n",
              "      <td>-0.018002</td>\n",
              "      <td>0.067998</td>\n",
              "    </tr>\n",
              "    <tr>\n",
              "      <th>smoker</th>\n",
              "      <td>-0.083752</td>\n",
              "      <td>-0.016571</td>\n",
              "      <td>-0.018216</td>\n",
              "      <td>1.000000</td>\n",
              "      <td>-0.010093</td>\n",
              "      <td>0.070198</td>\n",
              "      <td>-0.034649</td>\n",
              "      <td>0.560278</td>\n",
              "    </tr>\n",
              "    <tr>\n",
              "      <th>bloodpressure</th>\n",
              "      <td>-0.018778</td>\n",
              "      <td>0.019526</td>\n",
              "      <td>0.016912</td>\n",
              "      <td>-0.010093</td>\n",
              "      <td>1.000000</td>\n",
              "      <td>-0.015722</td>\n",
              "      <td>0.038387</td>\n",
              "      <td>0.003688</td>\n",
              "    </tr>\n",
              "    <tr>\n",
              "      <th>diabetes</th>\n",
              "      <td>0.064129</td>\n",
              "      <td>0.083368</td>\n",
              "      <td>0.067813</td>\n",
              "      <td>0.070198</td>\n",
              "      <td>-0.015722</td>\n",
              "      <td>1.000000</td>\n",
              "      <td>-0.019381</td>\n",
              "      <td>0.188871</td>\n",
              "    </tr>\n",
              "    <tr>\n",
              "      <th>regular_ex</th>\n",
              "      <td>0.008973</td>\n",
              "      <td>-0.066675</td>\n",
              "      <td>-0.018002</td>\n",
              "      <td>-0.034649</td>\n",
              "      <td>0.038387</td>\n",
              "      <td>-0.019381</td>\n",
              "      <td>1.000000</td>\n",
              "      <td>-0.104278</td>\n",
              "    </tr>\n",
              "    <tr>\n",
              "      <th>claim</th>\n",
              "      <td>0.299008</td>\n",
              "      <td>0.229282</td>\n",
              "      <td>0.067998</td>\n",
              "      <td>0.560278</td>\n",
              "      <td>0.003688</td>\n",
              "      <td>0.188871</td>\n",
              "      <td>-0.104278</td>\n",
              "      <td>1.000000</td>\n",
              "    </tr>\n",
              "  </tbody>\n",
              "</table>\n",
              "</div>"
            ],
            "text/plain": [
              "                    age       bmi  children  ...  diabetes  regular_ex     claim\n",
              "age            1.000000  0.104088  0.042469  ...  0.064129    0.008973  0.299008\n",
              "bmi            0.104088  1.000000  0.022702  ...  0.083368   -0.066675  0.229282\n",
              "children       0.042469  0.022702  1.000000  ...  0.067813   -0.018002  0.067998\n",
              "smoker        -0.083752 -0.016571 -0.018216  ...  0.070198   -0.034649  0.560278\n",
              "bloodpressure -0.018778  0.019526  0.016912  ... -0.015722    0.038387  0.003688\n",
              "diabetes       0.064129  0.083368  0.067813  ...  1.000000   -0.019381  0.188871\n",
              "regular_ex     0.008973 -0.066675 -0.018002  ... -0.019381    1.000000 -0.104278\n",
              "claim          0.299008  0.229282  0.067998  ...  0.188871   -0.104278  1.000000\n",
              "\n",
              "[8 rows x 8 columns]"
            ]
          },
          "metadata": {
            "tags": []
          },
          "execution_count": 13
        }
      ]
    },
    {
      "cell_type": "code",
      "metadata": {
        "colab": {
          "base_uri": "https://localhost:8080/",
          "height": 346
        },
        "id": "bKtFEta8iyEe",
        "outputId": "bdbc1b41-a924-4668-89c7-7b0e2691244e"
      },
      "source": [
        "sns.heatmap(df.corr(),annot=True,fmt=\".2f\") "
      ],
      "execution_count": null,
      "outputs": [
        {
          "output_type": "execute_result",
          "data": {
            "text/plain": [
              "<matplotlib.axes._subplots.AxesSubplot at 0x7ff4686b1c10>"
            ]
          },
          "metadata": {
            "tags": []
          },
          "execution_count": 14
        },
        {
          "output_type": "display_data",
          "data": {
            "image/png": "[encoded data removed]",
            "text/plain": [
              "<Figure size 432x288 with 2 Axes>"
            ]
          },
          "metadata": {
            "tags": [],
            "needs_background": "light"
          }
        }
      ]
    },
    {
      "cell_type": "code",
      "metadata": {
        "colab": {
          "base_uri": "https://localhost:8080/",
          "height": 501
        },
        "id": "pDCabIH7OfiV",
        "outputId": "3e44816e-01f6-4be5-eaaf-ebc38f1113a6"
      },
      "source": [
        "fig_dims = (17, 8)\n",
        "fig = plt.subplots(figsize=fig_dims)\n",
        "mask = np.triu(np.ones_like(df.corr(), dtype=np.bool)) \n",
        "sns.heatmap(round(df.corr(),2), annot=True, mask=mask) "
      ],
      "execution_count": null,
      "outputs": [
        {
          "output_type": "execute_result",
          "data": {
            "text/plain": [
              "<matplotlib.axes._subplots.AxesSubplot at 0x7ff460521b10>"
            ]
          },
          "metadata": {
            "tags": []
          },
          "execution_count": 15
        },
        {
          "output_type": "display_data",
          "data": {
            "image/png": "[encoded data removed]",
            "text/plain": [
              "<Figure size 1224x576 with 2 Axes>"
            ]
          },
          "metadata": {
            "tags": [],
            "needs_background": "light"
          }
        }
      ]
    },
    {
      "cell_type": "code",
      "metadata": {
        "colab": {
          "base_uri": "https://localhost:8080/",
          "height": 282
        },
        "id": "wwpE1s3NjH5c",
        "outputId": "071b6189-5d98-4af3-f44f-f8e5802f97a7"
      },
      "source": [
        "df.boxplot() "
      ],
      "execution_count": null,
      "outputs": [
        {
          "output_type": "execute_result",
          "data": {
            "text/plain": [
              "<matplotlib.axes._subplots.AxesSubplot at 0x7ff46860bb90>"
            ]
          },
          "metadata": {
            "tags": []
          },
          "execution_count": 16
        },
        {
          "output_type": "display_data",
          "data": {
            "image/png": "[encoded data removed]",
            "text/plain": [
              "<Figure size 432x288 with 1 Axes>"
            ]
          },
          "metadata": {
            "tags": [],
            "needs_background": "light"
          }
        }
      ]
    },
    {
      "cell_type": "code",
      "metadata": {
        "id": "IMLaayA6j_6i"
      },
      "source": [
        "def remove_outlier(col):\n",
        "    sorted(col)\n",
        "    Q1,Q3=np.percentile(col,[25,75])\n",
        "    IQR=Q3-Q1\n",
        "    lower_range= Q1-(1.5 * IQR)\n",
        "    upper_range= Q3+(1.5 * IQR)\n",
        "    return lower_range, upper_range"
      ],
      "execution_count": null,
      "outputs": []
    },
    {
      "cell_type": "code",
      "metadata": {
        "id": "AoUCbXACkLlN",
        "colab": {
          "base_uri": "https://localhost:8080/"
        },
        "outputId": "9570791c-ce30-4f17-97d4-de3f8619717e"
      },
      "source": [
        "lr1,ur1=remove_outlier(df['claim'])\n",
        "print(\"lower range\",lr1, \"and upper range\", ur1)"
      ],
      "execution_count": null,
      "outputs": [
        {
          "output_type": "stream",
          "text": [
            "lower range -13109.15375 and upper range 34489.35625\n"
          ],
          "name": "stdout"
        }
      ]
    },
    {
      "cell_type": "code",
      "metadata": {
        "id": "zki55kisTeRJ"
      },
      "source": [
        "df['claim']=np.where(df['claim']>ur1,ur1,df['claim'])\n",
        "df['claim']=np.where(df['claim']<lr1,lr1,df['claim'])"
      ],
      "execution_count": null,
      "outputs": []
    },
    {
      "cell_type": "code",
      "metadata": {
        "colab": {
          "base_uri": "https://localhost:8080/"
        },
        "id": "GikBSsBwTeaY",
        "outputId": "24697a13-0d5d-4511-9a66-b5a1072b25ac"
      },
      "source": [
        "lr2,ur2=remove_outlier(df['bloodpressure'])\n",
        "print(\"lower range\",lr2, \"and upper range\", ur2)"
      ],
      "execution_count": null,
      "outputs": [
        {
          "output_type": "stream",
          "text": [
            "lower range 40.0 and upper range 104.0\n"
          ],
          "name": "stdout"
        }
      ]
    },
    {
      "cell_type": "code",
      "metadata": {
        "id": "XEYkh4ElTejO"
      },
      "source": [
        "df['bloodpressure']=np.where(df['bloodpressure']>ur2,ur2,df['bloodpressure'])\n",
        "df['bloodpressure']=np.where(df['bloodpressure']<lr2,lr2,df['bloodpressure'])"
      ],
      "execution_count": null,
      "outputs": []
    },
    {
      "cell_type": "code",
      "metadata": {
        "colab": {
          "base_uri": "https://localhost:8080/",
          "height": 279
        },
        "id": "bIJE0Sa4Ts2r",
        "outputId": "55c62f1d-feff-4fcd-c471-123ab7fcbf0c"
      },
      "source": [
        "sns.boxplot(x=df['bloodpressure']);"
      ],
      "execution_count": null,
      "outputs": [
        {
          "output_type": "display_data",
          "data": {
            "image/png": "[encoded data removed]",
            "text/plain": [
              "<Figure size 432x288 with 1 Axes>"
            ]
          },
          "metadata": {
            "tags": [],
            "needs_background": "light"
          }
        }
      ]
    },
    {
      "cell_type": "code",
      "metadata": {
        "colab": {
          "base_uri": "https://localhost:8080/"
        },
        "id": "suFbeJ2BTs4Y",
        "outputId": "99042033-ca4c-4c52-a347-97b77326633d"
      },
      "source": [
        "lr3,ur3=remove_outlier(df['bmi'])\n",
        "print(\"lower range\",lr3, \"and upper range\", ur3)"
      ],
      "execution_count": null,
      "outputs": [
        {
          "output_type": "stream",
          "text": [
            "lower range 13.550000000000006 and upper range 47.54999999999999\n"
          ],
          "name": "stdout"
        }
      ]
    },
    {
      "cell_type": "code",
      "metadata": {
        "id": "O78rkXvRTep9"
      },
      "source": [
        "df['bmi']=np.where(df['bmi']>ur3,ur3,df['bmi'])\n",
        "df['bmi']=np.where(df['bmi']<lr3,lr3,df['bmi'])"
      ],
      "execution_count": null,
      "outputs": []
    },
    {
      "cell_type": "code",
      "metadata": {
        "colab": {
          "base_uri": "https://localhost:8080/",
          "height": 279
        },
        "id": "zoLnQlqrT4pV",
        "outputId": "56428dc8-80d7-4a01-cd41-3e344650d853"
      },
      "source": [
        "sns.boxplot(x=df['bmi']);"
      ],
      "execution_count": null,
      "outputs": [
        {
          "output_type": "display_data",
          "data": {
            "image/png": "[encoded data removed]",
            "text/plain": [
              "<Figure size 432x288 with 1 Axes>"
            ]
          },
          "metadata": {
            "tags": [],
            "needs_background": "light"
          }
        }
      ]
    },
    {
      "cell_type": "code",
      "metadata": {
        "colab": {
          "base_uri": "https://localhost:8080/",
          "height": 349
        },
        "id": "1yARpIzWT4q7",
        "outputId": "e2fa6a55-d818-44cd-8412-a64653976fe2"
      },
      "source": [
        "claim_mean = df['claim'].mean()\n",
        "claim_median = df['claim'].median()\n",
        "claim_mode = df['claim'].mode()\n",
        "\n",
        "ax_hist = sns.distplot(df['claim'], kde=True)\n",
        "\n",
        "ax_hist.axvline(claim_mean, color='r', label='Mean')\n",
        "ax_hist.axvline(claim_median, color='g', label='Median')\n",
        "ax_hist.axvline(claim_mode[0], color='b', label='Mode')\n",
        "ax_hist.set_title('Distribution of Claim')\n",
        "\n",
        "plt.legend(); plt.show();"
      ],
      "execution_count": null,
      "outputs": [
        {
          "output_type": "stream",
          "text": [
            "/usr/local/lib/python3.7/dist-packages/seaborn/distributions.py:2557: FutureWarning: `distplot` is a deprecated function and will be removed in a future version. Please adapt your code to use either `displot` (a figure-level function with similar flexibility) or `histplot` (an axes-level function for histograms).\n",
            "  warnings.warn(msg, FutureWarning)\n"
          ],
          "name": "stderr"
        },
        {
          "output_type": "display_data",
          "data": {
            "image/png": "[encoded data removed]",
            "text/plain": [
              "<Figure size 432x288 with 1 Axes>"
            ]
          },
          "metadata": {
            "tags": [],
            "needs_background": "light"
          }
        }
      ]
    },
    {
      "cell_type": "code",
      "metadata": {
        "id": "vYEND6e8T4uu"
      },
      "source": [
        ""
      ],
      "execution_count": null,
      "outputs": []
    },
    {
      "cell_type": "code",
      "metadata": {
        "colab": {
          "base_uri": "https://localhost:8080/",
          "height": 282
        },
        "id": "3drlcDt1TJtm",
        "outputId": "d4b67bdc-0a2d-4113-87ce-9326f934be43"
      },
      "source": [
        "df.boxplot() "
      ],
      "execution_count": null,
      "outputs": [
        {
          "output_type": "execute_result",
          "data": {
            "text/plain": [
              "<matplotlib.axes._subplots.AxesSubplot at 0x7ff45ea5b1d0>"
            ]
          },
          "metadata": {
            "tags": []
          },
          "execution_count": 27
        },
        {
          "output_type": "display_data",
          "data": {
            "image/png": "[encoded data removed]",
            "text/plain": [
              "<Figure size 432x288 with 1 Axes>"
            ]
          },
          "metadata": {
            "tags": [],
            "needs_background": "light"
          }
        }
      ]
    },
    {
      "cell_type": "code",
      "metadata": {
        "colab": {
          "base_uri": "https://localhost:8080/",
          "height": 296
        },
        "id": "iaPi5W1YkRb0",
        "outputId": "3b95d946-9241-4861-d884-ef5dacd0fd4d"
      },
      "source": [
        "sns.histplot(df['claim'] , y=None) "
      ],
      "execution_count": null,
      "outputs": [
        {
          "output_type": "execute_result",
          "data": {
            "text/plain": [
              "<matplotlib.axes._subplots.AxesSubplot at 0x7ff45c9176d0>"
            ]
          },
          "metadata": {
            "tags": []
          },
          "execution_count": 28
        },
        {
          "output_type": "display_data",
          "data": {
            "image/png": "[encoded data removed]",
            "text/plain": [
              "<Figure size 432x288 with 1 Axes>"
            ]
          },
          "metadata": {
            "tags": [],
            "needs_background": "light"
          }
        }
      ]
    },
    {
      "cell_type": "code",
      "metadata": {
        "colab": {
          "base_uri": "https://localhost:8080/",
          "height": 350
        },
        "id": "NhkIfYpxlC78",
        "outputId": "1b1a567c-4024-42e5-9a51-676c3208c2ff"
      },
      "source": [
        "sns.boxplot(df['claim']) "
      ],
      "execution_count": null,
      "outputs": [
        {
          "output_type": "stream",
          "text": [
            "/usr/local/lib/python3.7/dist-packages/seaborn/_decorators.py:43: FutureWarning: Pass the following variable as a keyword arg: x. From version 0.12, the only valid positional argument will be `data`, and passing other arguments without an explicit keyword will result in an error or misinterpretation.\n",
            "  FutureWarning\n"
          ],
          "name": "stderr"
        },
        {
          "output_type": "execute_result",
          "data": {
            "text/plain": [
              "<matplotlib.axes._subplots.AxesSubplot at 0x7ff45c84c790>"
            ]
          },
          "metadata": {
            "tags": []
          },
          "execution_count": 29
        },
        {
          "output_type": "display_data",
          "data": {
            "image/png": "[encoded data removed]",
            "text/plain": [
              "<Figure size 432x288 with 1 Axes>"
            ]
          },
          "metadata": {
            "tags": [],
            "needs_background": "light"
          }
        }
      ]
    },
    {
      "cell_type": "markdown",
      "metadata": {
        "id": "l60Dp4BklqAk"
      },
      "source": [
        "# Data Preparation - Transformation & Encoding "
      ]
    },
    {
      "cell_type": "markdown",
      "metadata": {
        "id": "MBojeIATmNSe"
      },
      "source": [
        "**TRANSFORMATION OF COLUMN CLAIM Using Log Transformation** "
      ]
    },
    {
      "cell_type": "markdown",
      "metadata": {
        "id": "3naCOLFKODWr"
      },
      "source": [
        "**Transform the column “claim” using log transformation\n",
        "and append the transformed column to the dataframe under the column name\n",
        "“log_claim” - optionally you can check the effect of the transformation by plotting\n",
        "histogram of “claim” before and after transformation. ** "
      ]
    },
    {
      "cell_type": "code",
      "metadata": {
        "colab": {
          "base_uri": "https://localhost:8080/",
          "height": 333
        },
        "id": "B9NQoGAtOPRM",
        "outputId": "f177c9f1-4a9b-4d8b-b9e4-929762303c08"
      },
      "source": [
        "#Before Tranformation  histogram of “claim”\n",
        "fig_dims = (10, 5) \n",
        "fig, axs = plt.subplots(nrows=1, ncols=2, figsize=fig_dims) \n",
        "sns.histplot(df['claim'], kde=True, ax = axs[0])\n",
        "sns.boxplot(x= df['claim'], ax = axs[1])\n",
        "plt.show()  "
      ],
      "execution_count": null,
      "outputs": [
        {
          "output_type": "display_data",
          "data": {
            "image/png": "[encoded data removed]",
            "text/plain": [
              "<Figure size 720x360 with 2 Axes>"
            ]
          },
          "metadata": {
            "tags": [],
            "needs_background": "light"
          }
        }
      ]
    },
    {
      "cell_type": "code",
      "metadata": {
        "colab": {
          "base_uri": "https://localhost:8080/"
        },
        "id": "K02Y_y8pPStb",
        "outputId": "ac30bcc0-1ae0-4e92-ed47-29d3bfaf0f3d"
      },
      "source": [
        "#Transformation using Log transformation\n",
        "df.claim.describe() "
      ],
      "execution_count": null,
      "outputs": [
        {
          "output_type": "execute_result",
          "data": {
            "text/plain": [
              "count     1338.000000\n",
              "mean     12479.369954\n",
              "std      10158.057297\n",
              "min       1121.870000\n",
              "25%       4740.287500\n",
              "50%       9382.030000\n",
              "75%      16639.915000\n",
              "max      34489.356250\n",
              "Name: claim, dtype: float64"
            ]
          },
          "metadata": {
            "tags": []
          },
          "execution_count": 31
        }
      ]
    },
    {
      "cell_type": "code",
      "metadata": {
        "colab": {
          "base_uri": "https://localhost:8080/",
          "height": 368
        },
        "id": "adBBGephP3JG",
        "outputId": "91891cd3-65d6-4018-92d8-697a404799bd"
      },
      "source": [
        "# Using log transformation\n",
        "print(np.log(df['claim']).skew())\n",
        "print(np.log(df['claim']).kurtosis())\n",
        "\n",
        "fig_dims = (10, 5) \n",
        "fig, axs = plt.subplots(nrows=1, ncols=2, figsize=fig_dims) \n",
        "sns.histplot(np.log(df['claim']), kde=True, ax = axs[0])\n",
        "sns.boxplot(x= np.log(df['claim']), ax = axs[1])\n",
        "plt.show() "
      ],
      "execution_count": null,
      "outputs": [
        {
          "output_type": "stream",
          "text": [
            "-0.2236920483663701\n",
            "-0.7191236383106188\n"
          ],
          "name": "stdout"
        },
        {
          "output_type": "display_data",
          "data": {
            "image/png": "[encoded data removed]",
            "text/plain": [
              "<Figure size 720x360 with 2 Axes>"
            ]
          },
          "metadata": {
            "tags": [],
            "needs_background": "light"
          }
        }
      ]
    },
    {
      "cell_type": "code",
      "metadata": {
        "id": "sUDf-75jRKc1"
      },
      "source": [
        "log_claim = np.log(df['claim'])\n",
        "df['log_claim'] = log_claim"
      ],
      "execution_count": null,
      "outputs": []
    },
    {
      "cell_type": "code",
      "metadata": {
        "colab": {
          "base_uri": "https://localhost:8080/",
          "height": 197
        },
        "id": "sY0igck_Rco3",
        "outputId": "bc0a721c-75ce-4eea-fab2-d5e94d3cc90e"
      },
      "source": [
        "df.head(5) "
      ],
      "execution_count": null,
      "outputs": [
        {
          "output_type": "execute_result",
          "data": {
            "text/html": [
              "<div>\n",
              "<style scoped>\n",
              "    .dataframe tbody tr th:only-of-type {\n",
              "        vertical-align: middle;\n",
              "    }\n",
              "\n",
              "    .dataframe tbody tr th {\n",
              "        vertical-align: top;\n",
              "    }\n",
              "\n",
              "    .dataframe thead th {\n",
              "        text-align: right;\n",
              "    }\n",
              "</style>\n",
              "<table border=\"1\" class=\"dataframe\">\n",
              "  <thead>\n",
              "    <tr style=\"text-align: right;\">\n",
              "      <th></th>\n",
              "      <th>age</th>\n",
              "      <th>sex</th>\n",
              "      <th>bmi</th>\n",
              "      <th>children</th>\n",
              "      <th>smoker</th>\n",
              "      <th>region</th>\n",
              "      <th>bloodpressure</th>\n",
              "      <th>diabetes</th>\n",
              "      <th>regular_ex</th>\n",
              "      <th>claim</th>\n",
              "      <th>log_claim</th>\n",
              "    </tr>\n",
              "  </thead>\n",
              "  <tbody>\n",
              "    <tr>\n",
              "      <th>0</th>\n",
              "      <td>54</td>\n",
              "      <td>female</td>\n",
              "      <td>47.40</td>\n",
              "      <td>0</td>\n",
              "      <td>0</td>\n",
              "      <td>southeast</td>\n",
              "      <td>90.0</td>\n",
              "      <td>1</td>\n",
              "      <td>0</td>\n",
              "      <td>34489.35625</td>\n",
              "      <td>10.448406</td>\n",
              "    </tr>\n",
              "    <tr>\n",
              "      <th>1</th>\n",
              "      <td>45</td>\n",
              "      <td>male</td>\n",
              "      <td>47.55</td>\n",
              "      <td>0</td>\n",
              "      <td>0</td>\n",
              "      <td>southeast</td>\n",
              "      <td>66.0</td>\n",
              "      <td>1</td>\n",
              "      <td>0</td>\n",
              "      <td>34489.35625</td>\n",
              "      <td>10.448406</td>\n",
              "    </tr>\n",
              "    <tr>\n",
              "      <th>2</th>\n",
              "      <td>52</td>\n",
              "      <td>male</td>\n",
              "      <td>34.50</td>\n",
              "      <td>3</td>\n",
              "      <td>0</td>\n",
              "      <td>northwest</td>\n",
              "      <td>70.0</td>\n",
              "      <td>0</td>\n",
              "      <td>0</td>\n",
              "      <td>34489.35625</td>\n",
              "      <td>10.448406</td>\n",
              "    </tr>\n",
              "    <tr>\n",
              "      <th>3</th>\n",
              "      <td>31</td>\n",
              "      <td>female</td>\n",
              "      <td>38.10</td>\n",
              "      <td>1</td>\n",
              "      <td>0</td>\n",
              "      <td>northeast</td>\n",
              "      <td>80.0</td>\n",
              "      <td>1</td>\n",
              "      <td>0</td>\n",
              "      <td>34489.35625</td>\n",
              "      <td>10.448406</td>\n",
              "    </tr>\n",
              "    <tr>\n",
              "      <th>4</th>\n",
              "      <td>33</td>\n",
              "      <td>female</td>\n",
              "      <td>47.55</td>\n",
              "      <td>0</td>\n",
              "      <td>0</td>\n",
              "      <td>northwest</td>\n",
              "      <td>50.0</td>\n",
              "      <td>1</td>\n",
              "      <td>0</td>\n",
              "      <td>34489.35625</td>\n",
              "      <td>10.448406</td>\n",
              "    </tr>\n",
              "  </tbody>\n",
              "</table>\n",
              "</div>"
            ],
            "text/plain": [
              "   age     sex    bmi  children  ...  diabetes regular_ex        claim  log_claim\n",
              "0   54  female  47.40         0  ...         1          0  34489.35625  10.448406\n",
              "1   45    male  47.55         0  ...         1          0  34489.35625  10.448406\n",
              "2   52    male  34.50         3  ...         0          0  34489.35625  10.448406\n",
              "3   31  female  38.10         1  ...         1          0  34489.35625  10.448406\n",
              "4   33  female  47.55         0  ...         1          0  34489.35625  10.448406\n",
              "\n",
              "[5 rows x 11 columns]"
            ]
          },
          "metadata": {
            "tags": []
          },
          "execution_count": 34
        }
      ]
    },
    {
      "cell_type": "markdown",
      "metadata": {
        "id": "ycbxwHzwSDy9"
      },
      "source": [
        "## Encoding "
      ]
    },
    {
      "cell_type": "markdown",
      "metadata": {
        "id": "KnegpIERSQM1"
      },
      "source": [
        "**Encode the categorical variables. In case a column has more than 2 categories,\n",
        "use one-hot encoding.** "
      ]
    },
    {
      "cell_type": "code",
      "metadata": {
        "colab": {
          "base_uri": "https://localhost:8080/"
        },
        "id": "1LOUGqfASWfV",
        "outputId": "afe27e63-0e50-4e8b-e0fa-aa408aa15a62"
      },
      "source": [
        "cat=[]\n",
        "num=[]\n",
        "for i in df.columns:\n",
        "    if df[i].dtype==\"object\":\n",
        "        cat.append(i)\n",
        "    else:\n",
        "        num.append(i)\n",
        "print(cat) \n",
        "print(num)\n"
      ],
      "execution_count": null,
      "outputs": [
        {
          "output_type": "stream",
          "text": [
            "['sex', 'region']\n",
            "['age', 'bmi', 'children', 'smoker', 'bloodpressure', 'diabetes', 'regular_ex', 'claim', 'log_claim']\n"
          ],
          "name": "stdout"
        }
      ]
    },
    {
      "cell_type": "code",
      "metadata": {
        "colab": {
          "base_uri": "https://localhost:8080/",
          "height": 405
        },
        "id": "Tfc9AuosSYr6",
        "outputId": "08e50d5f-ebe0-4235-a1a1-66793d0d3de4"
      },
      "source": [
        "df[cat] "
      ],
      "execution_count": null,
      "outputs": [
        {
          "output_type": "execute_result",
          "data": {
            "text/html": [
              "<div>\n",
              "<style scoped>\n",
              "    .dataframe tbody tr th:only-of-type {\n",
              "        vertical-align: middle;\n",
              "    }\n",
              "\n",
              "    .dataframe tbody tr th {\n",
              "        vertical-align: top;\n",
              "    }\n",
              "\n",
              "    .dataframe thead th {\n",
              "        text-align: right;\n",
              "    }\n",
              "</style>\n",
              "<table border=\"1\" class=\"dataframe\">\n",
              "  <thead>\n",
              "    <tr style=\"text-align: right;\">\n",
              "      <th></th>\n",
              "      <th>sex</th>\n",
              "      <th>region</th>\n",
              "    </tr>\n",
              "  </thead>\n",
              "  <tbody>\n",
              "    <tr>\n",
              "      <th>0</th>\n",
              "      <td>female</td>\n",
              "      <td>southeast</td>\n",
              "    </tr>\n",
              "    <tr>\n",
              "      <th>1</th>\n",
              "      <td>male</td>\n",
              "      <td>southeast</td>\n",
              "    </tr>\n",
              "    <tr>\n",
              "      <th>2</th>\n",
              "      <td>male</td>\n",
              "      <td>northwest</td>\n",
              "    </tr>\n",
              "    <tr>\n",
              "      <th>3</th>\n",
              "      <td>female</td>\n",
              "      <td>northeast</td>\n",
              "    </tr>\n",
              "    <tr>\n",
              "      <th>4</th>\n",
              "      <td>female</td>\n",
              "      <td>northwest</td>\n",
              "    </tr>\n",
              "    <tr>\n",
              "      <th>...</th>\n",
              "      <td>...</td>\n",
              "      <td>...</td>\n",
              "    </tr>\n",
              "    <tr>\n",
              "      <th>1333</th>\n",
              "      <td>male</td>\n",
              "      <td>southeast</td>\n",
              "    </tr>\n",
              "    <tr>\n",
              "      <th>1334</th>\n",
              "      <td>male</td>\n",
              "      <td>southeast</td>\n",
              "    </tr>\n",
              "    <tr>\n",
              "      <th>1335</th>\n",
              "      <td>male</td>\n",
              "      <td>southeast</td>\n",
              "    </tr>\n",
              "    <tr>\n",
              "      <th>1336</th>\n",
              "      <td>male</td>\n",
              "      <td>southeast</td>\n",
              "    </tr>\n",
              "    <tr>\n",
              "      <th>1337</th>\n",
              "      <td>male</td>\n",
              "      <td>southeast</td>\n",
              "    </tr>\n",
              "  </tbody>\n",
              "</table>\n",
              "<p>1338 rows × 2 columns</p>\n",
              "</div>"
            ],
            "text/plain": [
              "         sex     region\n",
              "0     female  southeast\n",
              "1       male  southeast\n",
              "2       male  northwest\n",
              "3     female  northeast\n",
              "4     female  northwest\n",
              "...      ...        ...\n",
              "1333    male  southeast\n",
              "1334    male  southeast\n",
              "1335    male  southeast\n",
              "1336    male  southeast\n",
              "1337    male  southeast\n",
              "\n",
              "[1338 rows x 2 columns]"
            ]
          },
          "metadata": {
            "tags": []
          },
          "execution_count": 36
        }
      ]
    },
    {
      "cell_type": "code",
      "metadata": {
        "colab": {
          "base_uri": "https://localhost:8080/"
        },
        "id": "l7V84oPfSyGF",
        "outputId": "81de92f7-7880-4e62-83dd-cd8b30d77f15"
      },
      "source": [
        "df['region'].unique() "
      ],
      "execution_count": null,
      "outputs": [
        {
          "output_type": "execute_result",
          "data": {
            "text/plain": [
              "array(['southeast', 'northwest', 'northeast', 'southwest'], dtype=object)"
            ]
          },
          "metadata": {
            "tags": []
          },
          "execution_count": 37
        }
      ]
    },
    {
      "cell_type": "code",
      "metadata": {
        "colab": {
          "base_uri": "https://localhost:8080/"
        },
        "id": "o2B189XjS6HH",
        "outputId": "4d46b406-e660-4f69-bf67-1755719dc940"
      },
      "source": [
        "df['sex'].unique()"
      ],
      "execution_count": null,
      "outputs": [
        {
          "output_type": "execute_result",
          "data": {
            "text/plain": [
              "array(['female', 'male'], dtype=object)"
            ]
          },
          "metadata": {
            "tags": []
          },
          "execution_count": 38
        }
      ]
    },
    {
      "cell_type": "markdown",
      "metadata": {
        "id": "X5YilA4FTBz5"
      },
      "source": [
        "### Sex Column has only 2 unique values, hence we will do label encoding for it\n",
        "### Region has 4 uniques values and hence one-hot encoding will be applied "
      ]
    },
    {
      "cell_type": "code",
      "metadata": {
        "colab": {
          "base_uri": "https://localhost:8080/"
        },
        "id": "LaMP08USTndj",
        "outputId": "fa48a77c-e275-474e-ebf3-cfe1f171a7b1"
      },
      "source": [
        "# convert sex column to a category, then use those category values for your label encoding:\n",
        "df[\"sex\"] =df[\"sex\"].astype('category')\n",
        "df.dtypes "
      ],
      "execution_count": null,
      "outputs": [
        {
          "output_type": "execute_result",
          "data": {
            "text/plain": [
              "age                 int64\n",
              "sex              category\n",
              "bmi               float64\n",
              "children            int64\n",
              "smoker              int64\n",
              "region             object\n",
              "bloodpressure     float64\n",
              "diabetes            int64\n",
              "regular_ex          int64\n",
              "claim             float64\n",
              "log_claim         float64\n",
              "dtype: object"
            ]
          },
          "metadata": {
            "tags": []
          },
          "execution_count": 39
        }
      ]
    },
    {
      "cell_type": "code",
      "metadata": {
        "colab": {
          "base_uri": "https://localhost:8080/"
        },
        "id": "Q6UeKJaYT1eR",
        "outputId": "57e44189-5c56-41b2-ab43-61c47cc4ca6f"
      },
      "source": [
        "df[\"sex\"].value_counts() "
      ],
      "execution_count": null,
      "outputs": [
        {
          "output_type": "execute_result",
          "data": {
            "text/plain": [
              "male      676\n",
              "female    662\n",
              "Name: sex, dtype: int64"
            ]
          },
          "metadata": {
            "tags": []
          },
          "execution_count": 40
        }
      ]
    },
    {
      "cell_type": "code",
      "metadata": {
        "colab": {
          "base_uri": "https://localhost:8080/"
        },
        "id": "0e6hBKnnUVPe",
        "outputId": "138eccd4-db19-461b-c259-8f76eaab02c2"
      },
      "source": [
        "df[\"sex\"] = df[\"sex\"].cat.codes\n",
        "df[\"sex\"].head() "
      ],
      "execution_count": null,
      "outputs": [
        {
          "output_type": "execute_result",
          "data": {
            "text/plain": [
              "0    0\n",
              "1    1\n",
              "2    1\n",
              "3    0\n",
              "4    0\n",
              "Name: sex, dtype: int8"
            ]
          },
          "metadata": {
            "tags": []
          },
          "execution_count": 41
        }
      ]
    },
    {
      "cell_type": "code",
      "metadata": {
        "colab": {
          "base_uri": "https://localhost:8080/"
        },
        "id": "2pR92YajUi-y",
        "outputId": "73d7e6e3-0364-4bcb-a519-5e7f7d83acd1"
      },
      "source": [
        "df[\"sex\"].value_counts() "
      ],
      "execution_count": null,
      "outputs": [
        {
          "output_type": "execute_result",
          "data": {
            "text/plain": [
              "1    676\n",
              "0    662\n",
              "Name: sex, dtype: int64"
            ]
          },
          "metadata": {
            "tags": []
          },
          "execution_count": 42
        }
      ]
    },
    {
      "cell_type": "code",
      "metadata": {
        "id": "g5yjiC9QUq3b"
      },
      "source": [
        "# Male is encoded as 1 and Female is encoded as 0 "
      ],
      "execution_count": null,
      "outputs": []
    },
    {
      "cell_type": "markdown",
      "metadata": {
        "id": "atkVe89QU2gu"
      },
      "source": [
        "#### One- hot encoding for region column "
      ]
    },
    {
      "cell_type": "code",
      "metadata": {
        "id": "4S-ypmYRU98h"
      },
      "source": [
        "cat.remove('region')  "
      ],
      "execution_count": null,
      "outputs": []
    },
    {
      "cell_type": "code",
      "metadata": {
        "colab": {
          "base_uri": "https://localhost:8080/",
          "height": 197
        },
        "id": "yHY_StmzVoi4",
        "outputId": "72ae40b3-3243-4de6-8221-7e4bacf97e42"
      },
      "source": [
        "pd.get_dummies(df, columns=['region']).head(5) "
      ],
      "execution_count": null,
      "outputs": [
        {
          "output_type": "execute_result",
          "data": {
            "text/html": [
              "<div>\n",
              "<style scoped>\n",
              "    .dataframe tbody tr th:only-of-type {\n",
              "        vertical-align: middle;\n",
              "    }\n",
              "\n",
              "    .dataframe tbody tr th {\n",
              "        vertical-align: top;\n",
              "    }\n",
              "\n",
              "    .dataframe thead th {\n",
              "        text-align: right;\n",
              "    }\n",
              "</style>\n",
              "<table border=\"1\" class=\"dataframe\">\n",
              "  <thead>\n",
              "    <tr style=\"text-align: right;\">\n",
              "      <th></th>\n",
              "      <th>age</th>\n",
              "      <th>sex</th>\n",
              "      <th>bmi</th>\n",
              "      <th>children</th>\n",
              "      <th>smoker</th>\n",
              "      <th>bloodpressure</th>\n",
              "      <th>diabetes</th>\n",
              "      <th>regular_ex</th>\n",
              "      <th>claim</th>\n",
              "      <th>log_claim</th>\n",
              "      <th>region_northeast</th>\n",
              "      <th>region_northwest</th>\n",
              "      <th>region_southeast</th>\n",
              "      <th>region_southwest</th>\n",
              "    </tr>\n",
              "  </thead>\n",
              "  <tbody>\n",
              "    <tr>\n",
              "      <th>0</th>\n",
              "      <td>54</td>\n",
              "      <td>0</td>\n",
              "      <td>47.40</td>\n",
              "      <td>0</td>\n",
              "      <td>0</td>\n",
              "      <td>90.0</td>\n",
              "      <td>1</td>\n",
              "      <td>0</td>\n",
              "      <td>34489.35625</td>\n",
              "      <td>10.448406</td>\n",
              "      <td>0</td>\n",
              "      <td>0</td>\n",
              "      <td>1</td>\n",
              "      <td>0</td>\n",
              "    </tr>\n",
              "    <tr>\n",
              "      <th>1</th>\n",
              "      <td>45</td>\n",
              "      <td>1</td>\n",
              "      <td>47.55</td>\n",
              "      <td>0</td>\n",
              "      <td>0</td>\n",
              "      <td>66.0</td>\n",
              "      <td>1</td>\n",
              "      <td>0</td>\n",
              "      <td>34489.35625</td>\n",
              "      <td>10.448406</td>\n",
              "      <td>0</td>\n",
              "      <td>0</td>\n",
              "      <td>1</td>\n",
              "      <td>0</td>\n",
              "    </tr>\n",
              "    <tr>\n",
              "      <th>2</th>\n",
              "      <td>52</td>\n",
              "      <td>1</td>\n",
              "      <td>34.50</td>\n",
              "      <td>3</td>\n",
              "      <td>0</td>\n",
              "      <td>70.0</td>\n",
              "      <td>0</td>\n",
              "      <td>0</td>\n",
              "      <td>34489.35625</td>\n",
              "      <td>10.448406</td>\n",
              "      <td>0</td>\n",
              "      <td>1</td>\n",
              "      <td>0</td>\n",
              "      <td>0</td>\n",
              "    </tr>\n",
              "    <tr>\n",
              "      <th>3</th>\n",
              "      <td>31</td>\n",
              "      <td>0</td>\n",
              "      <td>38.10</td>\n",
              "      <td>1</td>\n",
              "      <td>0</td>\n",
              "      <td>80.0</td>\n",
              "      <td>1</td>\n",
              "      <td>0</td>\n",
              "      <td>34489.35625</td>\n",
              "      <td>10.448406</td>\n",
              "      <td>1</td>\n",
              "      <td>0</td>\n",
              "      <td>0</td>\n",
              "      <td>0</td>\n",
              "    </tr>\n",
              "    <tr>\n",
              "      <th>4</th>\n",
              "      <td>33</td>\n",
              "      <td>0</td>\n",
              "      <td>47.55</td>\n",
              "      <td>0</td>\n",
              "      <td>0</td>\n",
              "      <td>50.0</td>\n",
              "      <td>1</td>\n",
              "      <td>0</td>\n",
              "      <td>34489.35625</td>\n",
              "      <td>10.448406</td>\n",
              "      <td>0</td>\n",
              "      <td>1</td>\n",
              "      <td>0</td>\n",
              "      <td>0</td>\n",
              "    </tr>\n",
              "  </tbody>\n",
              "</table>\n",
              "</div>"
            ],
            "text/plain": [
              "   age  sex    bmi  ...  region_northwest  region_southeast  region_southwest\n",
              "0   54    0  47.40  ...                 0                 1                 0\n",
              "1   45    1  47.55  ...                 0                 1                 0\n",
              "2   52    1  34.50  ...                 1                 0                 0\n",
              "3   31    0  38.10  ...                 0                 0                 0\n",
              "4   33    0  47.55  ...                 1                 0                 0\n",
              "\n",
              "[5 rows x 14 columns]"
            ]
          },
          "metadata": {
            "tags": []
          },
          "execution_count": 45
        }
      ]
    },
    {
      "cell_type": "code",
      "metadata": {
        "colab": {
          "base_uri": "https://localhost:8080/"
        },
        "id": "FLIPliviWlei",
        "outputId": "830643ee-4663-4ae9-fcc4-2d2bde7ce6ec"
      },
      "source": [
        "df.columns "
      ],
      "execution_count": null,
      "outputs": [
        {
          "output_type": "execute_result",
          "data": {
            "text/plain": [
              "Index(['age', 'sex', 'bmi', 'children', 'smoker', 'region', 'bloodpressure',\n",
              "       'diabetes', 'regular_ex', 'claim', 'log_claim'],\n",
              "      dtype='object')"
            ]
          },
          "metadata": {
            "tags": []
          },
          "execution_count": 46
        }
      ]
    },
    {
      "cell_type": "code",
      "metadata": {
        "id": "KwK3BgjDWs8g"
      },
      "source": [
        "df=   pd.get_dummies(df, columns=['region'],drop_first=True) "
      ],
      "execution_count": null,
      "outputs": []
    },
    {
      "cell_type": "code",
      "metadata": {
        "colab": {
          "base_uri": "https://localhost:8080/"
        },
        "id": "S4YFj_NRXGHE",
        "outputId": "a0ac7179-2612-4185-9b4c-e1b55b4fd297"
      },
      "source": [
        "df.columns"
      ],
      "execution_count": null,
      "outputs": [
        {
          "output_type": "execute_result",
          "data": {
            "text/plain": [
              "Index(['age', 'sex', 'bmi', 'children', 'smoker', 'bloodpressure', 'diabetes',\n",
              "       'regular_ex', 'claim', 'log_claim', 'region_northwest',\n",
              "       'region_southeast', 'region_southwest'],\n",
              "      dtype='object')"
            ]
          },
          "metadata": {
            "tags": []
          },
          "execution_count": 48
        }
      ]
    },
    {
      "cell_type": "markdown",
      "metadata": {
        "id": "7zLtMytJXQv9"
      },
      "source": [
        "## Separate out the dependent variable(“claim”) from the independent "
      ]
    },
    {
      "cell_type": "markdown",
      "metadata": {
        "id": "zctLWxJ0XnZy"
      },
      "source": [
        "#### To exclude claim and log_claim from the rest of the variable "
      ]
    },
    {
      "cell_type": "code",
      "metadata": {
        "colab": {
          "base_uri": "https://localhost:8080/"
        },
        "id": "OtLvJdPpXr14",
        "outputId": "ffab7d3a-e580-4e08-da30-8c2258c75872"
      },
      "source": [
        "# Here we will assign the dependent variable “claim” to y variable while the rest independent variables excluding “claim” and “log_claim” will be assign to X variable. \n",
        "# independant variables\n",
        "X = df.drop(['claim','log_claim'], axis=1)\n",
        "# the dependent variable\n",
        "y = df[['claim']]\n",
        "\n",
        "\n",
        "print(X.head())\n",
        "print(y.head()) "
      ],
      "execution_count": null,
      "outputs": [
        {
          "output_type": "stream",
          "text": [
            "   age  sex    bmi  ...  region_northwest  region_southeast  region_southwest\n",
            "0   54    0  47.40  ...                 0                 1                 0\n",
            "1   45    1  47.55  ...                 0                 1                 0\n",
            "2   52    1  34.50  ...                 1                 0                 0\n",
            "3   31    0  38.10  ...                 0                 0                 0\n",
            "4   33    0  47.55  ...                 1                 0                 0\n",
            "\n",
            "[5 rows x 11 columns]\n",
            "         claim\n",
            "0  34489.35625\n",
            "1  34489.35625\n",
            "2  34489.35625\n",
            "3  34489.35625\n",
            "4  34489.35625\n"
          ],
          "name": "stdout"
        }
      ]
    },
    {
      "cell_type": "code",
      "metadata": {
        "colab": {
          "base_uri": "https://localhost:8080/"
        },
        "id": "nED7vWhxYbAF",
        "outputId": "435b1eb8-078e-46ef-b120-5df88da573d2"
      },
      "source": [
        "print(X.shape)\n",
        "print(y.shape) "
      ],
      "execution_count": null,
      "outputs": [
        {
          "output_type": "stream",
          "text": [
            "(1338, 11)\n",
            "(1338, 1)\n"
          ],
          "name": "stdout"
        }
      ]
    },
    {
      "cell_type": "markdown",
      "metadata": {
        "id": "ujvxmxFuZV06"
      },
      "source": [
        "## Split Data "
      ]
    },
    {
      "cell_type": "code",
      "metadata": {
        "id": "ISaJCxGIZaOP"
      },
      "source": [
        "# Split X and y into training and test set in 70:30 ratio\n",
        "# Sklearn package's randomized data splitting function\n",
        "\n",
        "from sklearn.model_selection import train_test_split # Sklearn package's randomized data splitting function\n",
        "\n",
        "X_train, X_test, y_train, y_test = train_test_split(X, y, test_size=0.30, random_state=1)  "
      ],
      "execution_count": null,
      "outputs": []
    },
    {
      "cell_type": "markdown",
      "metadata": {
        "id": "0q9S8HmCdR7c"
      },
      "source": [
        "## Fit Linear Regression Model "
      ]
    },
    {
      "cell_type": "markdown",
      "metadata": {
        "id": "iDQizMO-dcXE"
      },
      "source": [
        "** Train a linear regression model using the training data and print the r_squared\n",
        "value of the prediction on the test data. ** "
      ]
    },
    {
      "cell_type": "code",
      "metadata": {
        "colab": {
          "base_uri": "https://localhost:8080/"
        },
        "id": "KQWul7QfdoYn",
        "outputId": "01be0182-2d37-4c2d-8a54-bb509f85d18b"
      },
      "source": [
        "from sklearn.linear_model import LinearRegression\n",
        "linearregression = LinearRegression()                                    \n",
        "linearregression.fit(X_train, y_train)                                  \n",
        "\n",
        "print(\"Intercept of the linear equation:\", linearregression.intercept_) \n",
        "print(\"\\nCo-efficients of the equation are:\", linearregression.coef_)\n",
        "\n",
        "from sklearn.metrics import mean_absolute_error, mean_squared_error,  r2_score\n",
        "\n",
        "pred = linearregression.predict(X_test) "
      ],
      "execution_count": null,
      "outputs": [
        {
          "output_type": "stream",
          "text": [
            "Intercept of the linear equation: [-10108.37540716]\n",
            "\n",
            "Co-efficients of the equation are: [[  270.27307815   147.28840366   216.41327193   556.86194747\n",
            "  18633.30117893    22.93608877  1724.45448609 -1404.91094508\n",
            "   -410.10295778  -653.11241984  -823.02985796]]\n"
          ],
          "name": "stdout"
        }
      ]
    },
    {
      "cell_type": "code",
      "metadata": {
        "colab": {
          "base_uri": "https://localhost:8080/"
        },
        "id": "afFNqNpDdiPR",
        "outputId": "3fd88a70-75d6-4276-a32c-e598f57ec194"
      },
      "source": [
        "# R2 Squared:\n",
        "r2_score(y_test, pred) "
      ],
      "execution_count": null,
      "outputs": [
        {
          "output_type": "execute_result",
          "data": {
            "text/plain": [
              "0.51899739438433"
            ]
          },
          "metadata": {
            "tags": []
          },
          "execution_count": 53
        }
      ]
    },
    {
      "cell_type": "code",
      "metadata": {
        "colab": {
          "base_uri": "https://localhost:8080/"
        },
        "id": "wKyduieSeIEq",
        "outputId": "bc61a47f-33a9-4183-a76a-debef2d42498"
      },
      "source": [
        "# Training Score\n",
        "linearregression.score(X_train, y_train) "
      ],
      "execution_count": null,
      "outputs": [
        {
          "output_type": "execute_result",
          "data": {
            "text/plain": [
              "0.5696961798228741"
            ]
          },
          "metadata": {
            "tags": []
          },
          "execution_count": 54
        }
      ]
    },
    {
      "cell_type": "code",
      "metadata": {
        "colab": {
          "base_uri": "https://localhost:8080/"
        },
        "id": "R8Rq1OKXeIc-",
        "outputId": "56ac31d0-5afb-4215-c9f2-db6df14e1174"
      },
      "source": [
        "# Testing score\n",
        "linearregression.score(X_test, y_test) "
      ],
      "execution_count": null,
      "outputs": [
        {
          "output_type": "execute_result",
          "data": {
            "text/plain": [
              "0.51899739438433"
            ]
          },
          "metadata": {
            "tags": []
          },
          "execution_count": 55
        }
      ]
    },
    {
      "cell_type": "code",
      "metadata": {
        "id": "HysaH3e8zQJ2"
      },
      "source": [
        "\n"
      ],
      "execution_count": null,
      "outputs": []
    },
    {
      "cell_type": "markdown",
      "metadata": {
        "id": "f2tzAZP1eXre"
      },
      "source": [
        " ## Scatter plot between the actual values and the predicted values for the test set "
      ]
    },
    {
      "cell_type": "code",
      "metadata": {
        "colab": {
          "base_uri": "https://localhost:8080/"
        },
        "id": "5QU8xej8enaP",
        "outputId": "43f2f7d5-c4cc-434c-c2ce-45711e0f04ad"
      },
      "source": [
        "y_test.shape "
      ],
      "execution_count": null,
      "outputs": [
        {
          "output_type": "execute_result",
          "data": {
            "text/plain": [
              "(402, 1)"
            ]
          },
          "metadata": {
            "tags": []
          },
          "execution_count": 56
        }
      ]
    },
    {
      "cell_type": "code",
      "metadata": {
        "id": "97t1_pyVk6mE"
      },
      "source": [
        "y_pred = list(pred)  "
      ],
      "execution_count": null,
      "outputs": []
    },
    {
      "cell_type": "code",
      "metadata": {
        "colab": {
          "base_uri": "https://localhost:8080/"
        },
        "id": "o_MzhKc_mYs-",
        "outputId": "b737a161-827f-4845-dcb3-5d8d075567a1"
      },
      "source": [
        "y_pred "
      ],
      "execution_count": null,
      "outputs": [
        {
          "output_type": "execute_result",
          "data": {
            "text/plain": [
              "[array([13939.33849377]),\n",
              " array([5350.21258475]),\n",
              " array([10035.1740331]),\n",
              " array([17019.94666256]),\n",
              " array([9493.06249155]),\n",
              " array([4112.67947157]),\n",
              " array([12052.98907031]),\n",
              " array([14769.86042084]),\n",
              " array([11412.32785294]),\n",
              " array([10922.48697748]),\n",
              " array([16121.97266087]),\n",
              " array([15552.5710767]),\n",
              " array([4610.58161089]),\n",
              " array([10549.41077811]),\n",
              " array([30611.96647356]),\n",
              " array([10223.11524973]),\n",
              " array([10631.63921133]),\n",
              " array([10452.78613212]),\n",
              " array([14444.21651967]),\n",
              " array([12328.98046767]),\n",
              " array([25020.96118599]),\n",
              " array([8857.6820769]),\n",
              " array([31475.80988802]),\n",
              " array([6506.64779889]),\n",
              " array([14954.33019764]),\n",
              " array([10304.17560174]),\n",
              " array([9211.71376333]),\n",
              " array([3225.04584377]),\n",
              " array([14566.44277351]),\n",
              " array([28630.56701766]),\n",
              " array([11492.81119686]),\n",
              " array([10639.34325041]),\n",
              " array([7937.52157754]),\n",
              " array([14493.07766108]),\n",
              " array([7158.77259279]),\n",
              " array([12893.29445437]),\n",
              " array([16668.20063547]),\n",
              " array([16055.08754516]),\n",
              " array([16976.45339119]),\n",
              " array([7568.93645255]),\n",
              " array([24662.6311894]),\n",
              " array([11647.19904426]),\n",
              " array([34527.04205653]),\n",
              " array([4584.69313924]),\n",
              " array([15418.56565873]),\n",
              " array([23475.80680403]),\n",
              " array([13902.182557]),\n",
              " array([5769.54856459]),\n",
              " array([12897.57779918]),\n",
              " array([13304.88937061]),\n",
              " array([20299.33979491]),\n",
              " array([24587.23179267]),\n",
              " array([11832.38507661]),\n",
              " array([7430.29339011]),\n",
              " array([2478.53590265]),\n",
              " array([17019.36205445]),\n",
              " array([5724.97657011]),\n",
              " array([8817.28146199]),\n",
              " array([5521.60935077]),\n",
              " array([16111.34660392]),\n",
              " array([16180.52986656]),\n",
              " array([893.51264006]),\n",
              " array([7557.54670592]),\n",
              " array([14770.79339828]),\n",
              " array([10328.93663404]),\n",
              " array([9349.11303834]),\n",
              " array([10693.58502134]),\n",
              " array([10295.0805096]),\n",
              " array([7495.61852683]),\n",
              " array([7798.43397303]),\n",
              " array([4773.25277773]),\n",
              " array([14526.29385152]),\n",
              " array([11847.86544867]),\n",
              " array([4508.3778051]),\n",
              " array([1766.4141171]),\n",
              " array([7849.56249916]),\n",
              " array([12470.99227025]),\n",
              " array([26326.57962631]),\n",
              " array([11890.26403073]),\n",
              " array([8261.52007899]),\n",
              " array([4628.55566896]),\n",
              " array([10436.67373737]),\n",
              " array([28830.81673481]),\n",
              " array([13205.99113932]),\n",
              " array([15806.392804]),\n",
              " array([7703.04832425]),\n",
              " array([8106.92935005]),\n",
              " array([10718.2474336]),\n",
              " array([-255.76733387]),\n",
              " array([23989.41895644]),\n",
              " array([4131.01536527]),\n",
              " array([9869.41766644]),\n",
              " array([16566.63589625]),\n",
              " array([30481.52874828]),\n",
              " array([10151.14435885]),\n",
              " array([7403.55626116]),\n",
              " array([13791.92757412]),\n",
              " array([25085.28183337]),\n",
              " array([3810.75060818]),\n",
              " array([12407.06907153]),\n",
              " array([30046.65307928]),\n",
              " array([10926.47452352]),\n",
              " array([10615.93483319]),\n",
              " array([29168.50630712]),\n",
              " array([15654.99261979]),\n",
              " array([6123.38379876]),\n",
              " array([5116.79829021]),\n",
              " array([8514.1203947]),\n",
              " array([12851.06295036]),\n",
              " array([4303.8401979]),\n",
              " array([3361.02368672]),\n",
              " array([14091.03555329]),\n",
              " array([15171.37149777]),\n",
              " array([14773.6838466]),\n",
              " array([7187.3001062]),\n",
              " array([15322.03549951]),\n",
              " array([15799.46688848]),\n",
              " array([5605.8208126]),\n",
              " array([4914.95519712]),\n",
              " array([4315.17009052]),\n",
              " array([1641.86382705]),\n",
              " array([18727.08344755]),\n",
              " array([13442.8615952]),\n",
              " array([32985.82328978]),\n",
              " array([9040.07109368]),\n",
              " array([14999.98804875]),\n",
              " array([29915.71261185]),\n",
              " array([9507.6255835]),\n",
              " array([4075.60193809]),\n",
              " array([24963.93235172]),\n",
              " array([11532.27770847]),\n",
              " array([27649.17415765]),\n",
              " array([9621.28620173]),\n",
              " array([7859.72240525]),\n",
              " array([18706.69830679]),\n",
              " array([4005.86206721]),\n",
              " array([22107.39946117]),\n",
              " array([33454.38432846]),\n",
              " array([4189.1464196]),\n",
              " array([29051.80233681]),\n",
              " array([12474.23601815]),\n",
              " array([12457.15241373]),\n",
              " array([25310.94586327]),\n",
              " array([11989.50389811]),\n",
              " array([32559.25525939]),\n",
              " array([4573.98567534]),\n",
              " array([2705.33503629]),\n",
              " array([4706.17392343]),\n",
              " array([9939.0456668]),\n",
              " array([24985.5788031]),\n",
              " array([4974.18474948]),\n",
              " array([26024.89686062]),\n",
              " array([16496.79846245]),\n",
              " array([13647.50611737]),\n",
              " array([7803.57747083]),\n",
              " array([15079.8318258]),\n",
              " array([3123.55603659]),\n",
              " array([10437.07303322]),\n",
              " array([3065.41494829]),\n",
              " array([17875.21314288]),\n",
              " array([3640.41098061]),\n",
              " array([2404.59753698]),\n",
              " array([13891.90385781]),\n",
              " array([5861.55448783]),\n",
              " array([15207.6877482]),\n",
              " array([14250.17984651]),\n",
              " array([12386.24332366]),\n",
              " array([32551.88105722]),\n",
              " array([30731.42303443]),\n",
              " array([9703.03515407]),\n",
              " array([34655.54188586]),\n",
              " array([13776.78223634]),\n",
              " array([29663.77260634]),\n",
              " array([12648.03876509]),\n",
              " array([4353.23880485]),\n",
              " array([15518.55812007]),\n",
              " array([13014.6369763]),\n",
              " array([6581.10810433]),\n",
              " array([1522.37395654]),\n",
              " array([18274.84203649]),\n",
              " array([11773.30317891]),\n",
              " array([23480.97694383]),\n",
              " array([8403.53915232]),\n",
              " array([3123.0601677]),\n",
              " array([4900.0820564]),\n",
              " array([13586.52052151]),\n",
              " array([26209.00333554]),\n",
              " array([5909.69003082]),\n",
              " array([16390.62895424]),\n",
              " array([2663.95946211]),\n",
              " array([8422.68884695]),\n",
              " array([4081.33782344]),\n",
              " array([14715.11151168]),\n",
              " array([11366.55633146]),\n",
              " array([10825.78555876]),\n",
              " array([17447.2152546]),\n",
              " array([7851.78822348]),\n",
              " array([12232.8060923]),\n",
              " array([13589.7236968]),\n",
              " array([16674.76759251]),\n",
              " array([11209.02851802]),\n",
              " array([31965.38119324]),\n",
              " array([6100.09096461]),\n",
              " array([4531.31144999]),\n",
              " array([6578.72699513]),\n",
              " array([29259.87617511]),\n",
              " array([24908.85670524]),\n",
              " array([10187.46726508]),\n",
              " array([12375.97535353]),\n",
              " array([13467.21658637]),\n",
              " array([7307.36694508]),\n",
              " array([13604.50830384]),\n",
              " array([9363.239788]),\n",
              " array([6409.59950691]),\n",
              " array([6300.34232797]),\n",
              " array([27864.33750234]),\n",
              " array([8876.01221089]),\n",
              " array([3544.61965465]),\n",
              " array([10614.09758649]),\n",
              " array([9264.43043945]),\n",
              " array([3038.60209135]),\n",
              " array([11582.17799294]),\n",
              " array([16975.699764]),\n",
              " array([11688.01374393]),\n",
              " array([16793.81904322]),\n",
              " array([16211.06596884]),\n",
              " array([-109.17343811]),\n",
              " array([3469.73546488]),\n",
              " array([25744.8345076]),\n",
              " array([6153.32755749]),\n",
              " array([14797.82634619]),\n",
              " array([28004.61145402]),\n",
              " array([8070.58258365]),\n",
              " array([13973.38432282]),\n",
              " array([5701.24826909]),\n",
              " array([3796.63253105]),\n",
              " array([7438.43382919]),\n",
              " array([12664.98285144]),\n",
              " array([13593.03548031]),\n",
              " array([18267.54575361]),\n",
              " array([16615.08421104]),\n",
              " array([30330.71873573]),\n",
              " array([12943.540405]),\n",
              " array([5219.69442278]),\n",
              " array([17468.65468247]),\n",
              " array([17587.6583651]),\n",
              " array([11922.27999867]),\n",
              " array([7536.38557827]),\n",
              " array([10586.43626208]),\n",
              " array([10468.75834578]),\n",
              " array([24051.5438868]),\n",
              " array([28485.75926253]),\n",
              " array([22369.56100584]),\n",
              " array([9829.08772158]),\n",
              " array([13938.27005383]),\n",
              " array([30467.80585439]),\n",
              " array([14477.46034271]),\n",
              " array([6876.99619861]),\n",
              " array([16775.81617852]),\n",
              " array([21570.33850123]),\n",
              " array([12942.14086122]),\n",
              " array([4072.11668174]),\n",
              " array([8731.30378276]),\n",
              " array([9634.43254851]),\n",
              " array([13717.16291814]),\n",
              " array([10391.90223545]),\n",
              " array([11139.68092879]),\n",
              " array([3333.95610654]),\n",
              " array([5545.04430337]),\n",
              " array([8721.07072073]),\n",
              " array([9218.13767187]),\n",
              " array([12177.84911632]),\n",
              " array([10481.35505573]),\n",
              " array([7950.83223557]),\n",
              " array([12313.2411484]),\n",
              " array([9861.96294903]),\n",
              " array([36287.91971496]),\n",
              " array([29388.06105362]),\n",
              " array([13724.60298902]),\n",
              " array([5830.17698186]),\n",
              " array([7698.2888939]),\n",
              " array([13574.26323995]),\n",
              " array([4749.95219346]),\n",
              " array([11946.95406228]),\n",
              " array([8064.30255237]),\n",
              " array([7562.89219306]),\n",
              " array([25636.69338817]),\n",
              " array([16315.32320338]),\n",
              " array([2075.65771244]),\n",
              " array([16195.20494086]),\n",
              " array([4711.66759213]),\n",
              " array([14670.53475253]),\n",
              " array([18026.39548423]),\n",
              " array([9620.40225258]),\n",
              " array([5173.30640333]),\n",
              " array([10049.03954857]),\n",
              " array([-917.5071548]),\n",
              " array([25279.61466954]),\n",
              " array([13414.3903775]),\n",
              " array([12710.36285146]),\n",
              " array([8503.89344163]),\n",
              " array([5812.40230804]),\n",
              " array([15601.23329641]),\n",
              " array([10965.57626423]),\n",
              " array([10063.93032985]),\n",
              " array([12816.99477783]),\n",
              " array([8886.50656583]),\n",
              " array([2934.718126]),\n",
              " array([10367.06513403]),\n",
              " array([2837.69792593]),\n",
              " array([33913.92141004]),\n",
              " array([16237.6706652]),\n",
              " array([26225.03338953]),\n",
              " array([8396.52498034]),\n",
              " array([10669.94389102]),\n",
              " array([3603.67204759]),\n",
              " array([7485.34498166]),\n",
              " array([15673.03750091]),\n",
              " array([29326.42519118]),\n",
              " array([31247.3324823]),\n",
              " array([11845.5568758]),\n",
              " array([5196.89849283]),\n",
              " array([12290.72462557]),\n",
              " array([28561.87891731]),\n",
              " array([19189.5376904]),\n",
              " array([1934.77870593]),\n",
              " array([8109.10957321]),\n",
              " array([3389.318791]),\n",
              " array([11592.46824886]),\n",
              " array([11545.22230692]),\n",
              " array([4551.0269756]),\n",
              " array([11979.87577621]),\n",
              " array([7624.12491449]),\n",
              " array([7276.51387671]),\n",
              " array([9851.00449981]),\n",
              " array([5904.34598442]),\n",
              " array([8619.13988025]),\n",
              " array([11150.72293488]),\n",
              " array([6314.43054712]),\n",
              " array([6313.21102255]),\n",
              " array([4964.56178356]),\n",
              " array([3984.09030244]),\n",
              " array([12593.00701035]),\n",
              " array([13202.38536483]),\n",
              " array([14688.773397]),\n",
              " array([1854.98304937]),\n",
              " array([9436.73242869]),\n",
              " array([4641.7455575]),\n",
              " array([13342.20299328]),\n",
              " array([10740.61679012]),\n",
              " array([13323.29252494]),\n",
              " array([9654.69030025]),\n",
              " array([12483.91360417]),\n",
              " array([4869.29446886]),\n",
              " array([7584.75082938]),\n",
              " array([12985.06550345]),\n",
              " array([7300.24897872]),\n",
              " array([28197.16167154]),\n",
              " array([14438.62338979]),\n",
              " array([25896.43545745]),\n",
              " array([8973.73031897]),\n",
              " array([11208.89710056]),\n",
              " array([7904.98645471]),\n",
              " array([15644.4498137]),\n",
              " array([28952.50748921]),\n",
              " array([11127.5291231]),\n",
              " array([14968.355415]),\n",
              " array([26476.45991542]),\n",
              " array([2797.06226755]),\n",
              " array([35875.66666998]),\n",
              " array([19121.50213201]),\n",
              " array([12251.18084947]),\n",
              " array([7963.17626071]),\n",
              " array([14825.43459668]),\n",
              " array([17730.65089513]),\n",
              " array([9439.85624011]),\n",
              " array([7168.7965113]),\n",
              " array([1559.0507778]),\n",
              " array([10030.83008954]),\n",
              " array([3465.80912959]),\n",
              " array([10718.91861257]),\n",
              " array([11049.10939757]),\n",
              " array([3089.4424239]),\n",
              " array([9975.34531789]),\n",
              " array([8713.53030312]),\n",
              " array([15220.49786281]),\n",
              " array([16240.68387918]),\n",
              " array([12756.05814479]),\n",
              " array([6181.3331213]),\n",
              " array([9938.78553802]),\n",
              " array([13794.78742387]),\n",
              " array([2001.44885411]),\n",
              " array([24680.12896603]),\n",
              " array([7714.43790508]),\n",
              " array([5772.90138672]),\n",
              " array([5640.64695813]),\n",
              " array([12078.80933237]),\n",
              " array([24296.41981329]),\n",
              " array([4804.63031304]),\n",
              " array([22462.2657477]),\n",
              " array([2879.17173654]),\n",
              " array([8210.20005519])]"
            ]
          },
          "metadata": {
            "tags": []
          },
          "execution_count": 58
        }
      ]
    },
    {
      "cell_type": "code",
      "metadata": {
        "colab": {
          "base_uri": "https://localhost:8080/"
        },
        "id": "KUf9c2-7fGzP",
        "outputId": "b5e8a4a2-ff2d-41f9-bc1a-cb6989abbf7e"
      },
      "source": [
        "len(y_pred) "
      ],
      "execution_count": null,
      "outputs": [
        {
          "output_type": "execute_result",
          "data": {
            "text/plain": [
              "402"
            ]
          },
          "metadata": {
            "tags": []
          },
          "execution_count": 59
        }
      ]
    },
    {
      "cell_type": "code",
      "metadata": {
        "colab": {
          "base_uri": "https://localhost:8080/",
          "height": 405
        },
        "id": "8IJ1-J8ikwhM",
        "outputId": "731910b9-0d6c-4358-c89e-e6409a0f360f"
      },
      "source": [
        "\n",
        "y_test "
      ],
      "execution_count": null,
      "outputs": [
        {
          "output_type": "execute_result",
          "data": {
            "text/html": [
              "<div>\n",
              "<style scoped>\n",
              "    .dataframe tbody tr th:only-of-type {\n",
              "        vertical-align: middle;\n",
              "    }\n",
              "\n",
              "    .dataframe tbody tr th {\n",
              "        vertical-align: top;\n",
              "    }\n",
              "\n",
              "    .dataframe thead th {\n",
              "        text-align: right;\n",
              "    }\n",
              "</style>\n",
              "<table border=\"1\" class=\"dataframe\">\n",
              "  <thead>\n",
              "    <tr style=\"text-align: right;\">\n",
              "      <th></th>\n",
              "      <th>claim</th>\n",
              "    </tr>\n",
              "  </thead>\n",
              "  <tbody>\n",
              "    <tr>\n",
              "      <th>559</th>\n",
              "      <td>11085.59000</td>\n",
              "    </tr>\n",
              "    <tr>\n",
              "      <th>1087</th>\n",
              "      <td>3761.29000</td>\n",
              "    </tr>\n",
              "    <tr>\n",
              "      <th>1020</th>\n",
              "      <td>4536.26000</td>\n",
              "    </tr>\n",
              "    <tr>\n",
              "      <th>460</th>\n",
              "      <td>12574.05000</td>\n",
              "    </tr>\n",
              "    <tr>\n",
              "      <th>802</th>\n",
              "      <td>7371.77000</td>\n",
              "    </tr>\n",
              "    <tr>\n",
              "      <th>...</th>\n",
              "      <td>...</td>\n",
              "    </tr>\n",
              "    <tr>\n",
              "      <th>323</th>\n",
              "      <td>17361.77000</td>\n",
              "    </tr>\n",
              "    <tr>\n",
              "      <th>1268</th>\n",
              "      <td>1815.88000</td>\n",
              "    </tr>\n",
              "    <tr>\n",
              "      <th>134</th>\n",
              "      <td>34489.35625</td>\n",
              "    </tr>\n",
              "    <tr>\n",
              "      <th>1274</th>\n",
              "      <td>1737.38000</td>\n",
              "    </tr>\n",
              "    <tr>\n",
              "      <th>876</th>\n",
              "      <td>6414.18000</td>\n",
              "    </tr>\n",
              "  </tbody>\n",
              "</table>\n",
              "<p>402 rows × 1 columns</p>\n",
              "</div>"
            ],
            "text/plain": [
              "            claim\n",
              "559   11085.59000\n",
              "1087   3761.29000\n",
              "1020   4536.26000\n",
              "460   12574.05000\n",
              "802    7371.77000\n",
              "...           ...\n",
              "323   17361.77000\n",
              "1268   1815.88000\n",
              "134   34489.35625\n",
              "1274   1737.38000\n",
              "876    6414.18000\n",
              "\n",
              "[402 rows x 1 columns]"
            ]
          },
          "metadata": {
            "tags": []
          },
          "execution_count": 60
        }
      ]
    },
    {
      "cell_type": "code",
      "metadata": {
        "id": "rxwArDQEoL32"
      },
      "source": [
        "\n",
        "df_new= pd.DataFrame(y_pred) "
      ],
      "execution_count": null,
      "outputs": []
    },
    {
      "cell_type": "code",
      "metadata": {
        "id": "q7IFlpD9E2p0"
      },
      "source": [
        "df_new['y_test'] = y_test "
      ],
      "execution_count": null,
      "outputs": []
    },
    {
      "cell_type": "code",
      "metadata": {
        "colab": {
          "base_uri": "https://localhost:8080/",
          "height": 197
        },
        "id": "2g3RrUeFE59Q",
        "outputId": "6d30fd21-ad77-4cc6-b171-70a7da9f17b9"
      },
      "source": [
        "df_new.head(5) "
      ],
      "execution_count": null,
      "outputs": [
        {
          "output_type": "execute_result",
          "data": {
            "text/html": [
              "<div>\n",
              "<style scoped>\n",
              "    .dataframe tbody tr th:only-of-type {\n",
              "        vertical-align: middle;\n",
              "    }\n",
              "\n",
              "    .dataframe tbody tr th {\n",
              "        vertical-align: top;\n",
              "    }\n",
              "\n",
              "    .dataframe thead th {\n",
              "        text-align: right;\n",
              "    }\n",
              "</style>\n",
              "<table border=\"1\" class=\"dataframe\">\n",
              "  <thead>\n",
              "    <tr style=\"text-align: right;\">\n",
              "      <th></th>\n",
              "      <th>0</th>\n",
              "      <th>y_test</th>\n",
              "    </tr>\n",
              "  </thead>\n",
              "  <tbody>\n",
              "    <tr>\n",
              "      <th>0</th>\n",
              "      <td>13939.338494</td>\n",
              "      <td>NaN</td>\n",
              "    </tr>\n",
              "    <tr>\n",
              "      <th>1</th>\n",
              "      <td>5350.212585</td>\n",
              "      <td>NaN</td>\n",
              "    </tr>\n",
              "    <tr>\n",
              "      <th>2</th>\n",
              "      <td>10035.174033</td>\n",
              "      <td>NaN</td>\n",
              "    </tr>\n",
              "    <tr>\n",
              "      <th>3</th>\n",
              "      <td>17019.946663</td>\n",
              "      <td>34489.35625</td>\n",
              "    </tr>\n",
              "    <tr>\n",
              "      <th>4</th>\n",
              "      <td>9493.062492</td>\n",
              "      <td>NaN</td>\n",
              "    </tr>\n",
              "  </tbody>\n",
              "</table>\n",
              "</div>"
            ],
            "text/plain": [
              "              0       y_test\n",
              "0  13939.338494          NaN\n",
              "1   5350.212585          NaN\n",
              "2  10035.174033          NaN\n",
              "3  17019.946663  34489.35625\n",
              "4   9493.062492          NaN"
            ]
          },
          "metadata": {
            "tags": []
          },
          "execution_count": 63
        }
      ]
    },
    {
      "cell_type": "code",
      "metadata": {
        "id": "G_usjVW8FJnb"
      },
      "source": [
        "df_new.columns =['Predicted','Actual']  "
      ],
      "execution_count": null,
      "outputs": []
    },
    {
      "cell_type": "code",
      "metadata": {
        "colab": {
          "base_uri": "https://localhost:8080/",
          "height": 197
        },
        "id": "dy7c1AjnH5lW",
        "outputId": "99abbce1-8908-4b4f-d4db-cb7b048f8a24"
      },
      "source": [
        "df_new.head(5) "
      ],
      "execution_count": null,
      "outputs": [
        {
          "output_type": "execute_result",
          "data": {
            "text/html": [
              "<div>\n",
              "<style scoped>\n",
              "    .dataframe tbody tr th:only-of-type {\n",
              "        vertical-align: middle;\n",
              "    }\n",
              "\n",
              "    .dataframe tbody tr th {\n",
              "        vertical-align: top;\n",
              "    }\n",
              "\n",
              "    .dataframe thead th {\n",
              "        text-align: right;\n",
              "    }\n",
              "</style>\n",
              "<table border=\"1\" class=\"dataframe\">\n",
              "  <thead>\n",
              "    <tr style=\"text-align: right;\">\n",
              "      <th></th>\n",
              "      <th>Predicted</th>\n",
              "      <th>Actual</th>\n",
              "    </tr>\n",
              "  </thead>\n",
              "  <tbody>\n",
              "    <tr>\n",
              "      <th>0</th>\n",
              "      <td>13939.338494</td>\n",
              "      <td>NaN</td>\n",
              "    </tr>\n",
              "    <tr>\n",
              "      <th>1</th>\n",
              "      <td>5350.212585</td>\n",
              "      <td>NaN</td>\n",
              "    </tr>\n",
              "    <tr>\n",
              "      <th>2</th>\n",
              "      <td>10035.174033</td>\n",
              "      <td>NaN</td>\n",
              "    </tr>\n",
              "    <tr>\n",
              "      <th>3</th>\n",
              "      <td>17019.946663</td>\n",
              "      <td>34489.35625</td>\n",
              "    </tr>\n",
              "    <tr>\n",
              "      <th>4</th>\n",
              "      <td>9493.062492</td>\n",
              "      <td>NaN</td>\n",
              "    </tr>\n",
              "  </tbody>\n",
              "</table>\n",
              "</div>"
            ],
            "text/plain": [
              "      Predicted       Actual\n",
              "0  13939.338494          NaN\n",
              "1   5350.212585          NaN\n",
              "2  10035.174033          NaN\n",
              "3  17019.946663  34489.35625\n",
              "4   9493.062492          NaN"
            ]
          },
          "metadata": {
            "tags": []
          },
          "execution_count": 65
        }
      ]
    },
    {
      "cell_type": "code",
      "metadata": {
        "colab": {
          "base_uri": "https://localhost:8080/",
          "height": 296
        },
        "id": "cCTXrY0fGgJj",
        "outputId": "8f033cac-3383-42ce-f395-6d79ff4dd0a7"
      },
      "source": [
        "sns.scatterplot(x=df_new['Predicted'] , y=df_new['Actual']) "
      ],
      "execution_count": null,
      "outputs": [
        {
          "output_type": "execute_result",
          "data": {
            "text/plain": [
              "<matplotlib.axes._subplots.AxesSubplot at 0x7ff4594e21d0>"
            ]
          },
          "metadata": {
            "tags": []
          },
          "execution_count": 66
        },
        {
          "output_type": "display_data",
          "data": {
            "image/png": "[encoded data removed]",
            "text/plain": [
              "<Figure size 432x288 with 1 Axes>"
            ]
          },
          "metadata": {
            "tags": [],
            "needs_background": "light"
          }
        }
      ]
    },
    {
      "cell_type": "code",
      "metadata": {
        "colab": {
          "base_uri": "https://localhost:8080/",
          "height": 297
        },
        "id": "GZ8vdAA2Mcn-",
        "outputId": "c7f4cc1e-6eab-4c08-bc2d-c7dc52736631"
      },
      "source": [
        "sns.scatterplot(x= df_new['Actual']  , y=df_new['Predicted']) "
      ],
      "execution_count": null,
      "outputs": [
        {
          "output_type": "execute_result",
          "data": {
            "text/plain": [
              "<matplotlib.axes._subplots.AxesSubplot at 0x7ff45948fa50>"
            ]
          },
          "metadata": {
            "tags": []
          },
          "execution_count": 67
        },
        {
          "output_type": "display_data",
          "data": {
            "image/png": "[encoded data removed]",
            "text/plain": [
              "<Figure size 432x288 with 1 Axes>"
            ]
          },
          "metadata": {
            "tags": [],
            "needs_background": "light"
          }
        }
      ]
    },
    {
      "cell_type": "markdown",
      "metadata": {
        "id": "IXRLBzoFfZu8"
      },
      "source": [
        "### Performance of the Model\n",
        "\n",
        "The model is skewed and not in normal distribution. The mean and median is not equivalent. This gives very less accuracy with "
      ]
    },
    {
      "cell_type": "code",
      "metadata": {
        "colab": {
          "base_uri": "https://localhost:8080/",
          "height": 350
        },
        "id": "dpiI_dL2GKJw",
        "outputId": "21ab1ded-d695-4140-8b7f-6f2c69d85fa8"
      },
      "source": [
        "sns.boxplot(df_new['Predicted']) "
      ],
      "execution_count": null,
      "outputs": [
        {
          "output_type": "stream",
          "text": [
            "/usr/local/lib/python3.7/dist-packages/seaborn/_decorators.py:43: FutureWarning: Pass the following variable as a keyword arg: x. From version 0.12, the only valid positional argument will be `data`, and passing other arguments without an explicit keyword will result in an error or misinterpretation.\n",
            "  FutureWarning\n"
          ],
          "name": "stderr"
        },
        {
          "output_type": "execute_result",
          "data": {
            "text/plain": [
              "<matplotlib.axes._subplots.AxesSubplot at 0x7ff4593c3050>"
            ]
          },
          "metadata": {
            "tags": []
          },
          "execution_count": 68
        },
        {
          "output_type": "display_data",
          "data": {
            "image/png": "[encoded data removed]",
            "text/plain": [
              "<Figure size 432x288 with 1 Axes>"
            ]
          },
          "metadata": {
            "tags": [],
            "needs_background": "light"
          }
        }
      ]
    },
    {
      "cell_type": "markdown",
      "metadata": {
        "id": "rXriXE4-IzVy"
      },
      "source": [
        "## Test and Train model with Log_Claim as Depedent Variable"
      ]
    },
    {
      "cell_type": "markdown",
      "metadata": {
        "id": "0mBX0lFvJL7_"
      },
      "source": [
        "split the data but the dependent variable will be “log_claim” and rest as the independent variables excluding the “claim” and “log_claim” "
      ]
    },
    {
      "cell_type": "code",
      "metadata": {
        "id": "rIkTEO-xGcFm"
      },
      "source": [
        "# Here we will assign the dependent variable “claim” to y variable while the rest independent variables excluding “claim” and “log_claim” will be assign to X variable. \n",
        "# independant variables\n",
        "X = df.drop(['claim','log_claim'], axis=1)\n",
        "# the dependent variable\n",
        "y = df[['log_claim']] "
      ],
      "execution_count": null,
      "outputs": []
    },
    {
      "cell_type": "markdown",
      "metadata": {
        "id": "6-535d3LJlpC"
      },
      "source": [
        "## Split Data "
      ]
    },
    {
      "cell_type": "code",
      "metadata": {
        "id": "jUbnkfpzJri3"
      },
      "source": [
        "# Split X and y into training and test set in 70:30 ratio\n",
        "# Sklearn package's randomized data splitting function\n",
        "\n",
        "from sklearn.model_selection import train_test_split # Sklearn package's randomized data splitting function\n",
        "\n",
        "X_train, X_test, y_train, y_test = train_test_split(X, y, test_size=0.30, random_state=1)  "
      ],
      "execution_count": null,
      "outputs": []
    },
    {
      "cell_type": "markdown",
      "metadata": {
        "id": "jreIhNlrJz4X"
      },
      "source": [
        "## Fit Linear Regression Model "
      ]
    },
    {
      "cell_type": "code",
      "metadata": {
        "colab": {
          "base_uri": "https://localhost:8080/"
        },
        "id": "Z3zprE4FJxpd",
        "outputId": "31efc496-96ca-404f-cccf-065166cb83d3"
      },
      "source": [
        "from sklearn.linear_model import LinearRegression\n",
        "linearregression = LinearRegression()                                    \n",
        "linearregression.fit(X_train, y_train)                                  \n",
        "\n",
        "print(\"Intercept of the linear equation:\", linearregression.intercept_) \n",
        "print(\"\\nCo-efficients of the equation are:\", linearregression.coef_)\n",
        "\n",
        "from sklearn.metrics import mean_absolute_error, mean_squared_error,  r2_score\n",
        "\n",
        "pred = linearregression.predict(X_test)  "
      ],
      "execution_count": null,
      "outputs": [
        {
          "output_type": "stream",
          "text": [
            "Intercept of the linear equation: [6.93663231]\n",
            "\n",
            "Co-efficients of the equation are: [[ 3.69243154e-02 -5.78012367e-02  1.14363585e-02  1.12172173e-01\n",
            "   1.45244061e+00  7.79024098e-04  1.11391354e-01 -5.92767250e-02\n",
            "  -6.45117868e-02 -1.38298930e-01 -1.26619308e-01]]\n"
          ],
          "name": "stdout"
        }
      ]
    },
    {
      "cell_type": "code",
      "metadata": {
        "id": "5vTI9aY9KDeJ",
        "colab": {
          "base_uri": "https://localhost:8080/"
        },
        "outputId": "f1fce06a-92c9-46cb-b8ba-00656cfedeb2"
      },
      "source": [
        "# R2 Squared:\n",
        "r2_score(y_test, pred)  "
      ],
      "execution_count": null,
      "outputs": [
        {
          "output_type": "execute_result",
          "data": {
            "text/plain": [
              "0.5808599198304663"
            ]
          },
          "metadata": {
            "tags": []
          },
          "execution_count": 72
        }
      ]
    },
    {
      "cell_type": "code",
      "metadata": {
        "id": "m0rw8M4cKMKD",
        "colab": {
          "base_uri": "https://localhost:8080/"
        },
        "outputId": "1d4ba037-baea-4a27-927a-9afd1ed78a77"
      },
      "source": [
        "# Training Score\n",
        "linearregression.score(X_train, y_train) "
      ],
      "execution_count": null,
      "outputs": [
        {
          "output_type": "execute_result",
          "data": {
            "text/plain": [
              "0.6696296607300276"
            ]
          },
          "metadata": {
            "tags": []
          },
          "execution_count": 73
        }
      ]
    },
    {
      "cell_type": "code",
      "metadata": {
        "id": "wN_7gsdfKMVd",
        "colab": {
          "base_uri": "https://localhost:8080/"
        },
        "outputId": "52ddb458-f6c6-4139-c0b0-2ede13b02e40"
      },
      "source": [
        "# Testing score\n",
        "linearregression.score(X_test, y_test)"
      ],
      "execution_count": null,
      "outputs": [
        {
          "output_type": "execute_result",
          "data": {
            "text/plain": [
              "0.5808599198304663"
            ]
          },
          "metadata": {
            "tags": []
          },
          "execution_count": 74
        }
      ]
    },
    {
      "cell_type": "code",
      "metadata": {
        "id": "_2XVSgVoKMgd",
        "colab": {
          "base_uri": "https://localhost:8080/"
        },
        "outputId": "3e1e6aa5-4d02-4906-980a-75647ea6ebd0"
      },
      "source": [
        "y_test.shape"
      ],
      "execution_count": null,
      "outputs": [
        {
          "output_type": "execute_result",
          "data": {
            "text/plain": [
              "(402, 1)"
            ]
          },
          "metadata": {
            "tags": []
          },
          "execution_count": 75
        }
      ]
    },
    {
      "cell_type": "code",
      "metadata": {
        "id": "zJnm_KV3KYGX"
      },
      "source": [
        "y_pred = list(pred) "
      ],
      "execution_count": null,
      "outputs": []
    },
    {
      "cell_type": "code",
      "metadata": {
        "id": "6SZXTHr7KYOo",
        "colab": {
          "base_uri": "https://localhost:8080/",
          "height": 197
        },
        "outputId": "6939927e-4262-4aa6-8238-f315923ba980"
      },
      "source": [
        "df_new= pd.DataFrame(y_pred) \n",
        "df_new['y_test'] = y_test \n",
        "df_new.columns =['Predicted','Actual'] \n",
        "df_new.head(5) "
      ],
      "execution_count": null,
      "outputs": [
        {
          "output_type": "execute_result",
          "data": {
            "text/html": [
              "<div>\n",
              "<style scoped>\n",
              "    .dataframe tbody tr th:only-of-type {\n",
              "        vertical-align: middle;\n",
              "    }\n",
              "\n",
              "    .dataframe tbody tr th {\n",
              "        vertical-align: top;\n",
              "    }\n",
              "\n",
              "    .dataframe thead th {\n",
              "        text-align: right;\n",
              "    }\n",
              "</style>\n",
              "<table border=\"1\" class=\"dataframe\">\n",
              "  <thead>\n",
              "    <tr style=\"text-align: right;\">\n",
              "      <th></th>\n",
              "      <th>Predicted</th>\n",
              "      <th>Actual</th>\n",
              "    </tr>\n",
              "  </thead>\n",
              "  <tbody>\n",
              "    <tr>\n",
              "      <th>0</th>\n",
              "      <td>9.537463</td>\n",
              "      <td>NaN</td>\n",
              "    </tr>\n",
              "    <tr>\n",
              "      <th>1</th>\n",
              "      <td>8.341996</td>\n",
              "      <td>NaN</td>\n",
              "    </tr>\n",
              "    <tr>\n",
              "      <th>2</th>\n",
              "      <td>8.671194</td>\n",
              "      <td>NaN</td>\n",
              "    </tr>\n",
              "    <tr>\n",
              "      <th>3</th>\n",
              "      <td>9.607579</td>\n",
              "      <td>10.448406</td>\n",
              "    </tr>\n",
              "    <tr>\n",
              "      <th>4</th>\n",
              "      <td>8.967798</td>\n",
              "      <td>NaN</td>\n",
              "    </tr>\n",
              "  </tbody>\n",
              "</table>\n",
              "</div>"
            ],
            "text/plain": [
              "   Predicted     Actual\n",
              "0   9.537463        NaN\n",
              "1   8.341996        NaN\n",
              "2   8.671194        NaN\n",
              "3   9.607579  10.448406\n",
              "4   8.967798        NaN"
            ]
          },
          "metadata": {
            "tags": []
          },
          "execution_count": 77
        }
      ]
    },
    {
      "cell_type": "code",
      "metadata": {
        "id": "-eEGt-TjKYXE",
        "colab": {
          "base_uri": "https://localhost:8080/",
          "height": 296
        },
        "outputId": "510e1d8c-c404-4f26-c223-d9b0baf0aa8d"
      },
      "source": [
        "sns.scatterplot(x=df_new['Predicted'] , y=df_new['Actual']) "
      ],
      "execution_count": null,
      "outputs": [
        {
          "output_type": "execute_result",
          "data": {
            "text/plain": [
              "<matplotlib.axes._subplots.AxesSubplot at 0x7ff4593b00d0>"
            ]
          },
          "metadata": {
            "tags": []
          },
          "execution_count": 78
        },
        {
          "output_type": "display_data",
          "data": {
            "image/png": "[encoded data removed]",
            "text/plain": [
              "<Figure size 432x288 with 1 Axes>"
            ]
          },
          "metadata": {
            "tags": [],
            "needs_background": "light"
          }
        }
      ]
    },
    {
      "cell_type": "code",
      "metadata": {
        "id": "I1TL_IEqKtqu",
        "colab": {
          "base_uri": "https://localhost:8080/",
          "height": 296
        },
        "outputId": "6ebf9194-e3dd-488f-dce6-e88b58ce51a3"
      },
      "source": [
        "sns.scatterplot(x= df_new['Actual']  , y=df_new['Predicted'])"
      ],
      "execution_count": null,
      "outputs": [
        {
          "output_type": "execute_result",
          "data": {
            "text/plain": [
              "<matplotlib.axes._subplots.AxesSubplot at 0x7ff459337ed0>"
            ]
          },
          "metadata": {
            "tags": []
          },
          "execution_count": 79
        },
        {
          "output_type": "display_data",
          "data": {
            "image/png": "[encoded data removed]",
            "text/plain": [
              "<Figure size 432x288 with 1 Axes>"
            ]
          },
          "metadata": {
            "tags": [],
            "needs_background": "light"
          }
        }
      ]
    },
    {
      "cell_type": "code",
      "metadata": {
        "id": "vY1fcVsDKt5S"
      },
      "source": [
        ""
      ],
      "execution_count": null,
      "outputs": []
    }
  ]
}